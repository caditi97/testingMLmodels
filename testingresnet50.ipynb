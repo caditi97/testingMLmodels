{
 "cells": [
  {
   "cell_type": "markdown",
   "metadata": {
    "colab_type": "text",
    "id": "MTQ4z-oOu40N"
   },
   "source": [
    "# Load model from .pb file"
   ]
  },
  {
   "cell_type": "markdown",
   "metadata": {
    "colab_type": "text",
    "id": "xrSOmAtiu40Q"
   },
   "source": [
    "This code will load and return the graph.\n",
    "\n",
    "* `model_file_name`: path to a `.pb` file.\n",
    "* `node_mapping`: mapping from the name of node in the graph to a Tensorflow node in current session"
   ]
  },
  {
   "cell_type": "code",
   "execution_count": 1,
   "metadata": {
    "colab": {
     "base_uri": "https://localhost:8080/",
     "height": 134
    },
    "colab_type": "code",
    "id": "8Xa-jO4Vu40R",
    "outputId": "e1281e9e-cbdb-4c14-bdd4-bee7cc13b384"
   },
   "outputs": [
    {
     "name": "stdout",
     "output_type": "stream",
     "text": [
      "WARNING:tensorflow:From /Users/butterchicken/opt/anaconda2/envs/research/lib/python3.7/site-packages/tensorflow_core/python/compat/v2_compat.py:88: disable_resource_variables (from tensorflow.python.ops.variable_scope) is deprecated and will be removed in a future version.\n",
      "Instructions for updating:\n",
      "non-resource variables are not supported in the long term\n"
     ]
    }
   ],
   "source": [
    "import tensorflow.compat.v1 as tf\n",
    "tf.disable_v2_behavior()\n",
    "from tensorflow.python.platform import gfile\n",
    "import pandas as pd\n",
    "from sklearn.metrics import confusion_matrix"
   ]
  },
  {
   "cell_type": "code",
   "execution_count": 2,
   "metadata": {},
   "outputs": [],
   "source": [
    "def load_graph(sess, model_file_name, node_mapping={}):\n",
    "    with gfile.GFile(model_file_name, 'rb') as f:\n",
    "        graph_def = tf.GraphDef()\n",
    "        graph_def.ParseFromString(f.read())\n",
    "        tf.import_graph_def(graph_def, node_mapping)"
   ]
  },
  {
   "cell_type": "markdown",
   "metadata": {
    "colab_type": "text",
    "id": "NafMpZESu40Z"
   },
   "source": [
    "This code will load the top-tagging model weights.\n",
    "\n",
    "Please change the `model_file_name` to the file name of your model."
   ]
  },
  {
   "cell_type": "code",
   "execution_count": 3,
   "metadata": {
    "colab": {
     "base_uri": "https://localhost:8080/",
     "height": 334
    },
    "colab_type": "code",
    "id": "jn6RS4R-u40a",
    "outputId": "72c5a42b-4a6a-455b-e797-748fdbba2f6c"
   },
   "outputs": [],
   "source": [
    "# import tensorflow.compat.v1 as tf\n",
    "# tf.disable_v2_behavior() \n",
    "with tf.Session() as sess:\n",
    "    # Create a placeholder for the input\n",
    "    input_node = tf.placeholder(tf.float32, shape = [None, 224, 224, 3], name='Placeholder')\n",
    "    graph_def = load_graph(sess=sess,\n",
    "                           model_file_name='constantgraph.pb',\n",
    "                           node_mapping={'Placeholder': input_node})\n",
    "# Get the node for output\n",
    "output_node = tf.get_default_graph().get_tensor_by_name(\"import/classifier/model_1/classifier_output/Softmax:0\")"
   ]
  },
  {
   "cell_type": "markdown",
   "metadata": {
    "colab_type": "text",
    "id": "jKlJIEVeu40f"
   },
   "source": [
    "# Export to Tensorboard"
   ]
  },
  {
   "cell_type": "markdown",
   "metadata": {
    "colab_type": "text",
    "id": "2IZ-m6abu40g"
   },
   "source": [
    "This code will save the graph into a logging directory so that we can inspect it with Tensorboard.\n",
    "\n",
    "* `log_dir_name`: Path to the directory that is used to store the log. You can use `tensorboard --logdir <log_dir_name>` to inspect the graph."
   ]
  },
  {
   "cell_type": "code",
   "execution_count": 4,
   "metadata": {
    "colab": {},
    "colab_type": "code",
    "id": "5NVBC-ohu40j"
   },
   "outputs": [],
   "source": [
    "def write_to_log(log_dir_name):\n",
    "    LOGDIR='log-top-tagging-resnet50-2'\n",
    "    train_writer = tf.summary.FileWriter(log_dir_name)\n",
    "    train_writer.add_graph(sess.graph)"
   ]
  },
  {
   "cell_type": "markdown",
   "metadata": {
    "colab_type": "text",
    "id": "FWarhjKHu40m"
   },
   "source": [
    "This code will save the top-tagging model to a folder.\n",
    "\n",
    "Please change the parameter to where you want to store the Tensorboad information."
   ]
  },
  {
   "cell_type": "code",
   "execution_count": 5,
   "metadata": {
    "colab": {},
    "colab_type": "code",
    "id": "EjMCzZOBu40o"
   },
   "outputs": [],
   "source": [
    "write_to_log('log-top-tagging-resnet50')"
   ]
  },
  {
   "cell_type": "markdown",
   "metadata": {
    "colab_type": "text",
    "id": "_ZkknadOu40r"
   },
   "source": [
    "# Run an inference"
   ]
  },
  {
   "cell_type": "markdown",
   "metadata": {
    "colab_type": "text",
    "id": "UmuNZlz-u40s"
   },
   "source": [
    "This code will run an inference on a matrix"
   ]
  },
  {
   "cell_type": "code",
   "execution_count": 6,
   "metadata": {
    "colab": {},
    "colab_type": "code",
    "id": "BALjH5RUu40t",
    "scrolled": true
   },
   "outputs": [],
   "source": [
    "import numpy as np\n",
    "with tf.Session() as sess:\n",
    "    y = sess.run(output_node, feed_dict={input_node: np.zeros((2, 224, 224, 3))})"
   ]
  },
  {
   "cell_type": "code",
   "execution_count": 7,
   "metadata": {
    "colab": {
     "base_uri": "https://localhost:8080/",
     "height": 51
    },
    "colab_type": "code",
    "id": "7w2B8CxJu40v",
    "outputId": "7ffc2f94-1682-4a4b-b777-695608990e29"
   },
   "outputs": [
    {
     "name": "stdout",
     "output_type": "stream",
     "text": [
      "[[0.00170123 0.9982988 ]\n",
      " [0.00170123 0.9982988 ]]\n"
     ]
    }
   ],
   "source": [
    "print(y)"
   ]
  },
  {
   "cell_type": "markdown",
   "metadata": {
    "colab_type": "text",
    "id": "C1M4Kbx0u40z"
   },
   "source": [
    "# Evaluate model"
   ]
  },
  {
   "cell_type": "markdown",
   "metadata": {
    "colab_type": "text",
    "id": "cj01otnmu400"
   },
   "source": [
    "Those are helper functions from [util.py](https://github.com/nhanvtran/MachineLearningNotebooks/blob/nvt/bwcustomweights-validate/project-brainwave/utils.py)"
   ]
  },
  {
   "cell_type": "code",
   "execution_count": 8,
   "metadata": {
    "colab": {},
    "colab_type": "code",
    "id": "2kX4_UWQu401"
   },
   "outputs": [],
   "source": [
    "def normalize_and_rgb(images): \n",
    "    import numpy as np\n",
    "    #normalize image to 0-255 per image.\n",
    "    image_sum = 1/np.sum(np.sum(images,axis=1),axis=-1)\n",
    "    given_axis = 0\n",
    "    # Create an array which would be used to reshape 1D array, b to have \n",
    "    # singleton dimensions except for the given axis where we would put -1 \n",
    "    # signifying to use the entire length of elements along that axis  \n",
    "    dim_array = np.ones((1,images.ndim),int).ravel()\n",
    "    dim_array[given_axis] = -1\n",
    "    # Reshape b with dim_array and perform elementwise multiplication with \n",
    "    # broadcasting along the singleton dimensions for the final output\n",
    "    image_sum_reshaped = image_sum.reshape(dim_array)\n",
    "    images = images*image_sum_reshaped*255\n",
    "\n",
    "    # make it rgb by duplicating 3 channels.\n",
    "    images = np.stack([images, images, images],axis=-1)\n",
    "    \n",
    "    return images"
   ]
  },
  {
   "cell_type": "code",
   "execution_count": 9,
   "metadata": {
    "colab": {},
    "colab_type": "code",
    "id": "gukB2aDWu404"
   },
   "outputs": [],
   "source": [
    "def count_events(train_files):\n",
    "    import tables\n",
    "    n_events = 0\n",
    "    for train_file in train_files:\n",
    "        f = tables.open_file(train_file, 'r')\n",
    "        n_events += f.root.label.shape[0]\n",
    "        f.close()\n",
    "    return n_events"
   ]
  },
  {
   "cell_type": "code",
   "execution_count": 10,
   "metadata": {
    "colab": {},
    "colab_type": "code",
    "id": "a3spQeNOu407"
   },
   "outputs": [],
   "source": [
    "def chunks(files, chunksize, max_q_size=4, shuffle=True): \n",
    "    \"\"\"Yield successive n-sized chunks from a and b.\"\"\" \n",
    "    import tables\n",
    "    import numpy as np\n",
    "    for train_file in files: \n",
    "        f = tables.open_file(train_file, 'r') \n",
    "        nrows = f.root.label.nrows\n",
    "        for istart in range(0,nrows,max_q_size*chunksize):  \n",
    "            a = np.array(f.root.img_pt[istart:istart+max_q_size*chunksize]) # Images \n",
    "            b = np.array(f.root.label[istart:istart+max_q_size*chunksize]) # Labels \n",
    "            if shuffle: \n",
    "                c = np.c_[a.reshape(len(a), -1), b.reshape(len(b), -1)] # shuffle within queue size\n",
    "                np.random.shuffle(c)\n",
    "                test_images = c[:, :a.size//len(a)].reshape(a.shape)\n",
    "                test_labels = c[:, a.size//len(a):].reshape(b.shape)\n",
    "            else:\n",
    "                test_images = a\n",
    "                test_labels = b\n",
    "            for jstart in range(0,len(test_labels),chunksize): \n",
    "                yield normalize_and_rgb(test_images[jstart:jstart+chunksize].copy()),test_labels[jstart:jstart+chunksize].copy(), len(test_labels[jstart:jstart+chunksize].copy())  \n",
    "        f.close()"
   ]
  },
  {
   "cell_type": "code",
   "execution_count": 11,
   "metadata": {},
   "outputs": [],
   "source": [
    "import matplotlib\n",
    "import matplotlib.pyplot as plt"
   ]
  },
  {
   "cell_type": "code",
   "execution_count": 12,
   "metadata": {},
   "outputs": [],
   "source": [
    "def plot_loss(x, y):\n",
    "        plt.figure()\n",
    "        plt.plot(x,y,label='test_loss')\n",
    "        plt.xlabel('events')\n",
    "        plt.ylabel('loss')\n",
    "        plt.title('Loss per events.')\n",
    "        plt.show()"
   ]
  },
  {
   "cell_type": "code",
   "execution_count": 13,
   "metadata": {},
   "outputs": [],
   "source": [
    "def plot_acc(x, y):\n",
    "        plt.figure()\n",
    "        plt.plot(x,y,label='test_acc')\n",
    "        plt.xlabel('events')\n",
    "        plt.ylabel('acc')\n",
    "        plt.title('Accuarcy per events')\n",
    "        plt.show()"
   ]
  },
  {
   "cell_type": "code",
   "execution_count": 14,
   "metadata": {},
   "outputs": [],
   "source": [
    "def roc_plot(x,y):\n",
    "        xx = []\n",
    "        for i in range(0,157):\n",
    "            xx.append(x[i]/157)\n",
    "        plt.figure()\n",
    "        plt.plot(xx,y,label='ResNet-50(area = 0.958)')\n",
    "        plt.plot(xx,xx,'--',label='Random')\n",
    "        plt.xlabel('FPR')\n",
    "        plt.ylabel('TPR')\n",
    "        plt.legend(loc='lower right')\n",
    "        plt.title('ROC curve.')\n",
    "        plt.show()"
   ]
  },
  {
   "cell_type": "code",
   "execution_count": 15,
   "metadata": {
    "colab": {},
    "colab_type": "code",
    "id": "IQHBqp_iu40-"
   },
   "outputs": [],
   "source": [
    "test_loss_list = []\n",
    "test_acc_list = []\n",
    "def test_model(preds, in_images, test_files, chunk_size=64, shuffle=True):\n",
    "    \"\"\"Test the model\"\"\"\n",
    "    # import tensorflow as tf \n",
    "    import tensorflow.compat.v1 as tf\n",
    "    tf.disable_v2_behavior() \n",
    "    from keras import backend as K\n",
    "    from keras.objectives import binary_crossentropy \n",
    "    import numpy as np\n",
    "    from keras.metrics import categorical_accuracy\n",
    "    from tqdm import tqdm\n",
    "    \n",
    "    in_labels = tf.placeholder(tf.float32, shape=(None, 2))\n",
    "    \n",
    "    cross_entropy = tf.reduce_mean(binary_crossentropy(in_labels, preds))\n",
    "    accuracy = tf.reduce_mean(categorical_accuracy(in_labels, preds))\n",
    "    auc = tf.metrics.auc(tf.cast(in_labels, tf.bool), preds)\n",
    "   \n",
    "    n_test_events = count_events(test_files)\n",
    "    chunk_num = int(n_test_events/chunk_size)+1\n",
    "    preds_all = []\n",
    "    label_all = []\n",
    "    \n",
    "    sess = tf.Session()\n",
    "    sess.run(tf.local_variables_initializer())\n",
    "    \n",
    "    avg_accuracy = 0\n",
    "    avg_auc = 0\n",
    "    avg_test_loss = 0\n",
    "    is_training = tf.get_default_graph().get_tensor_by_name('import/is_training:0')\n",
    "    n_current_events = 0\n",
    "    epoch = 0\n",
    "    epoch_list = []\n",
    "    roc_curve = []\n",
    "    for img_chunk, label_chunk, real_chunk_size in chunks(test_files, chunk_size, shuffle=shuffle):\n",
    "        test_loss, accuracy_result, auc_result, preds_result = sess.run([cross_entropy, accuracy, auc, preds],\n",
    "                        feed_dict={in_images: img_chunk,\n",
    "                                   in_labels: label_chunk,\n",
    "                                   K.learning_phase(): 0,\n",
    "                                   is_training: False})\n",
    "        avg_test_loss += test_loss * real_chunk_size / n_test_events\n",
    "        avg_accuracy += accuracy_result * real_chunk_size / n_test_events\n",
    "        avg_auc += auc_result[0]  * real_chunk_size / n_test_events \n",
    "        preds_all.extend(preds_result)\n",
    "        label_all.extend(label_chunk)\n",
    "        n_current_events += real_chunk_size\n",
    "        \n",
    "        test_loss_list.append( avg_test_loss*n_test_events/n_current_events)\n",
    "        test_acc_list.append( avg_accuracy*n_test_events/n_current_events )\n",
    "        roc_curve.append( avg_auc*n_test_events/n_current_events )\n",
    "        if(epoch < 157 ):\n",
    "            epoch += 1\n",
    "            epoch_list.append(epoch)\n",
    "        \n",
    "        print(\"test_loss = \", \"{:.3f}\".format(avg_test_loss*n_test_events/n_current_events), end=\"\")\n",
    "        print(\"Test Accuracy:\", \"{:.3f}\".format(avg_accuracy*n_test_events/n_current_events), \", Area under ROC curve:\", \"{:.3f}\".format(avg_auc*n_test_events/n_current_events))\n",
    "        print(epoch)\n",
    "    \n",
    "    return epoch_list, test_loss_list, test_acc_list, roc_curve, avg_test_loss, avg_accuracy, avg_auc, np.asarray(preds_all).reshape(n_test_events,2), np.asarray(label_all).reshape(n_test_events,2)"
   ]
  },
  {
   "cell_type": "markdown",
   "metadata": {},
   "source": [
    "* `Input Size`: 64 by 64 image upsampled to 224 * 224 * 3 (224 by 224 channel duplicated 3 times for RGB)\n",
    "* `Operations`: resize, padding, conv2d, batchnorm, relu, maxpool\n",
    "* Adam with 10^-3 learning rate , minibatch size of 64, over 10 epochs\n",
    "* quantized version of Resnet50 needs to be trained with smaller learning rate of 10^-4 `\n",
    "* `Loss Function`: Binary Crossentropy"
   ]
  },
  {
   "cell_type": "markdown",
   "metadata": {
    "colab_type": "text",
    "id": "7nG8KlXZu41C"
   },
   "source": [
    "This will test the model on a test file.\n",
    "\n",
    "Please change the parameter so that it uses the correct file."
   ]
  },
  {
   "cell_type": "code",
   "execution_count": 17,
   "metadata": {
    "scrolled": false
   },
   "outputs": [
    {
     "name": "stdout",
     "output_type": "stream",
     "text": [
      "WARNING:tensorflow:From <ipython-input-15-5ff4d99fe587>:18: auc (from tensorflow.python.ops.metrics_impl) is deprecated and will be removed in a future version.\n",
      "Instructions for updating:\n",
      "The value of AUC returned by this may race with the update so this is deprected. Please use tf.keras.metrics.AUC instead.\n",
      "WARNING:tensorflow:From /Users/butterchicken/opt/anaconda2/envs/research/lib/python3.7/site-packages/tensorflow_core/python/ops/metrics_impl.py:811: div (from tensorflow.python.ops.math_ops) is deprecated and will be removed in a future version.\n",
      "Instructions for updating:\n",
      "Deprecated in favor of operator or tf.math.divide.\n"
     ]
    },
    {
     "name": "stderr",
     "output_type": "stream",
     "text": [
      "Using TensorFlow backend.\n"
     ]
    },
    {
     "name": "stdout",
     "output_type": "stream",
     "text": [
      "test_loss =  0.247Test Accuracy: 0.922 , Area under ROC curve: 0.000\n",
      "1\n",
      "test_loss =  0.257Test Accuracy: 0.914 , Area under ROC curve: 0.490\n",
      "2\n",
      "test_loss =  0.249Test Accuracy: 0.917 , Area under ROC curve: 0.651\n",
      "3\n",
      "test_loss =  0.290Test Accuracy: 0.906 , Area under ROC curve: 0.732\n",
      "4\n",
      "test_loss =  0.260Test Accuracy: 0.912 , Area under ROC curve: 0.779\n",
      "5\n",
      "test_loss =  0.260Test Accuracy: 0.911 , Area under ROC curve: 0.811\n",
      "6\n",
      "test_loss =  0.268Test Accuracy: 0.904 , Area under ROC curve: 0.834\n",
      "7\n",
      "test_loss =  0.268Test Accuracy: 0.908 , Area under ROC curve: 0.852\n",
      "8\n",
      "test_loss =  0.260Test Accuracy: 0.911 , Area under ROC curve: 0.865\n",
      "9\n",
      "test_loss =  0.271Test Accuracy: 0.906 , Area under ROC curve: 0.876\n",
      "10\n",
      "test_loss =  0.261Test Accuracy: 0.905 , Area under ROC curve: 0.885\n",
      "11\n",
      "test_loss =  0.275Test Accuracy: 0.902 , Area under ROC curve: 0.892\n",
      "12\n",
      "test_loss =  0.285Test Accuracy: 0.898 , Area under ROC curve: 0.898\n",
      "13\n",
      "test_loss =  0.286Test Accuracy: 0.898 , Area under ROC curve: 0.903\n",
      "14\n",
      "test_loss =  0.290Test Accuracy: 0.898 , Area under ROC curve: 0.908\n",
      "15\n",
      "test_loss =  0.276Test Accuracy: 0.903 , Area under ROC curve: 0.912\n",
      "16\n",
      "test_loss =  0.278Test Accuracy: 0.903 , Area under ROC curve: 0.915\n",
      "17\n",
      "test_loss =  0.288Test Accuracy: 0.898 , Area under ROC curve: 0.918\n",
      "18\n",
      "test_loss =  0.280Test Accuracy: 0.900 , Area under ROC curve: 0.921\n",
      "19\n",
      "test_loss =  0.278Test Accuracy: 0.902 , Area under ROC curve: 0.923\n",
      "20\n",
      "test_loss =  0.281Test Accuracy: 0.900 , Area under ROC curve: 0.925\n",
      "21\n",
      "test_loss =  0.280Test Accuracy: 0.901 , Area under ROC curve: 0.927\n",
      "22\n",
      "test_loss =  0.287Test Accuracy: 0.898 , Area under ROC curve: 0.929\n",
      "23\n",
      "test_loss =  0.290Test Accuracy: 0.898 , Area under ROC curve: 0.931\n",
      "24\n",
      "test_loss =  0.285Test Accuracy: 0.899 , Area under ROC curve: 0.932\n",
      "25\n",
      "test_loss =  0.281Test Accuracy: 0.901 , Area under ROC curve: 0.933\n",
      "26\n",
      "test_loss =  0.282Test Accuracy: 0.902 , Area under ROC curve: 0.935\n",
      "27\n",
      "test_loss =  0.287Test Accuracy: 0.902 , Area under ROC curve: 0.936\n",
      "28\n",
      "test_loss =  0.298Test Accuracy: 0.898 , Area under ROC curve: 0.937\n",
      "29\n",
      "test_loss =  0.297Test Accuracy: 0.898 , Area under ROC curve: 0.938\n",
      "30\n",
      "test_loss =  0.301Test Accuracy: 0.898 , Area under ROC curve: 0.939\n",
      "31\n",
      "test_loss =  0.297Test Accuracy: 0.899 , Area under ROC curve: 0.940\n",
      "32\n",
      "test_loss =  0.305Test Accuracy: 0.896 , Area under ROC curve: 0.940\n",
      "33\n",
      "test_loss =  0.304Test Accuracy: 0.894 , Area under ROC curve: 0.941\n",
      "34\n",
      "test_loss =  0.301Test Accuracy: 0.895 , Area under ROC curve: 0.942\n",
      "35\n",
      "test_loss =  0.309Test Accuracy: 0.893 , Area under ROC curve: 0.942\n",
      "36\n",
      "test_loss =  0.308Test Accuracy: 0.893 , Area under ROC curve: 0.943\n",
      "37\n",
      "test_loss =  0.309Test Accuracy: 0.891 , Area under ROC curve: 0.944\n",
      "38\n",
      "test_loss =  0.310Test Accuracy: 0.891 , Area under ROC curve: 0.944\n",
      "39\n",
      "test_loss =  0.313Test Accuracy: 0.890 , Area under ROC curve: 0.945\n",
      "40\n",
      "test_loss =  0.314Test Accuracy: 0.891 , Area under ROC curve: 0.945\n",
      "41\n",
      "test_loss =  0.315Test Accuracy: 0.891 , Area under ROC curve: 0.945\n",
      "42\n",
      "test_loss =  0.315Test Accuracy: 0.891 , Area under ROC curve: 0.946\n",
      "43\n",
      "test_loss =  0.322Test Accuracy: 0.890 , Area under ROC curve: 0.946\n",
      "44\n",
      "test_loss =  0.322Test Accuracy: 0.891 , Area under ROC curve: 0.947\n",
      "45\n",
      "test_loss =  0.322Test Accuracy: 0.892 , Area under ROC curve: 0.947\n",
      "46\n",
      "test_loss =  0.320Test Accuracy: 0.893 , Area under ROC curve: 0.947\n",
      "47\n",
      "test_loss =  0.321Test Accuracy: 0.893 , Area under ROC curve: 0.948\n",
      "48\n",
      "test_loss =  0.325Test Accuracy: 0.892 , Area under ROC curve: 0.948\n",
      "49\n",
      "test_loss =  0.327Test Accuracy: 0.892 , Area under ROC curve: 0.948\n",
      "50\n",
      "test_loss =  0.329Test Accuracy: 0.892 , Area under ROC curve: 0.948\n",
      "51\n",
      "test_loss =  0.331Test Accuracy: 0.892 , Area under ROC curve: 0.949\n",
      "52\n",
      "test_loss =  0.331Test Accuracy: 0.892 , Area under ROC curve: 0.949\n",
      "53\n",
      "test_loss =  0.335Test Accuracy: 0.891 , Area under ROC curve: 0.949\n",
      "54\n",
      "test_loss =  0.334Test Accuracy: 0.890 , Area under ROC curve: 0.949\n",
      "55\n",
      "test_loss =  0.334Test Accuracy: 0.889 , Area under ROC curve: 0.949\n",
      "56\n",
      "test_loss =  0.332Test Accuracy: 0.890 , Area under ROC curve: 0.950\n",
      "57\n",
      "test_loss =  0.331Test Accuracy: 0.890 , Area under ROC curve: 0.950\n",
      "58\n",
      "test_loss =  0.330Test Accuracy: 0.889 , Area under ROC curve: 0.950\n",
      "59\n",
      "test_loss =  0.329Test Accuracy: 0.890 , Area under ROC curve: 0.950\n",
      "60\n",
      "test_loss =  0.327Test Accuracy: 0.891 , Area under ROC curve: 0.950\n",
      "61\n",
      "test_loss =  0.324Test Accuracy: 0.892 , Area under ROC curve: 0.951\n",
      "62\n",
      "test_loss =  0.323Test Accuracy: 0.892 , Area under ROC curve: 0.951\n",
      "63\n",
      "test_loss =  0.321Test Accuracy: 0.892 , Area under ROC curve: 0.951\n",
      "64\n",
      "test_loss =  0.323Test Accuracy: 0.892 , Area under ROC curve: 0.951\n",
      "65\n",
      "test_loss =  0.325Test Accuracy: 0.891 , Area under ROC curve: 0.951\n",
      "66\n",
      "test_loss =  0.325Test Accuracy: 0.892 , Area under ROC curve: 0.951\n",
      "67\n",
      "test_loss =  0.324Test Accuracy: 0.892 , Area under ROC curve: 0.952\n",
      "68\n",
      "test_loss =  0.324Test Accuracy: 0.892 , Area under ROC curve: 0.952\n",
      "69\n",
      "test_loss =  0.325Test Accuracy: 0.891 , Area under ROC curve: 0.952\n",
      "70\n",
      "test_loss =  0.323Test Accuracy: 0.891 , Area under ROC curve: 0.952\n",
      "71\n",
      "test_loss =  0.321Test Accuracy: 0.892 , Area under ROC curve: 0.952\n",
      "72\n",
      "test_loss =  0.322Test Accuracy: 0.892 , Area under ROC curve: 0.952\n",
      "73\n",
      "test_loss =  0.322Test Accuracy: 0.892 , Area under ROC curve: 0.952\n",
      "74\n",
      "test_loss =  0.321Test Accuracy: 0.892 , Area under ROC curve: 0.953\n",
      "75\n",
      "test_loss =  0.320Test Accuracy: 0.892 , Area under ROC curve: 0.953\n",
      "76\n",
      "test_loss =  0.320Test Accuracy: 0.892 , Area under ROC curve: 0.953\n",
      "77\n",
      "test_loss =  0.321Test Accuracy: 0.892 , Area under ROC curve: 0.953\n",
      "78\n",
      "test_loss =  0.322Test Accuracy: 0.892 , Area under ROC curve: 0.953\n",
      "79\n",
      "test_loss =  0.323Test Accuracy: 0.891 , Area under ROC curve: 0.953\n",
      "80\n",
      "test_loss =  0.324Test Accuracy: 0.891 , Area under ROC curve: 0.953\n",
      "81\n",
      "test_loss =  0.321Test Accuracy: 0.892 , Area under ROC curve: 0.953\n",
      "82\n",
      "test_loss =  0.320Test Accuracy: 0.892 , Area under ROC curve: 0.954\n",
      "83\n",
      "test_loss =  0.320Test Accuracy: 0.892 , Area under ROC curve: 0.954\n",
      "84\n",
      "test_loss =  0.322Test Accuracy: 0.891 , Area under ROC curve: 0.954\n",
      "85\n",
      "test_loss =  0.321Test Accuracy: 0.892 , Area under ROC curve: 0.954\n",
      "86\n",
      "test_loss =  0.322Test Accuracy: 0.892 , Area under ROC curve: 0.954\n",
      "87\n",
      "test_loss =  0.322Test Accuracy: 0.892 , Area under ROC curve: 0.954\n",
      "88\n",
      "test_loss =  0.321Test Accuracy: 0.892 , Area under ROC curve: 0.954\n",
      "89\n",
      "test_loss =  0.319Test Accuracy: 0.892 , Area under ROC curve: 0.954\n",
      "90\n",
      "test_loss =  0.318Test Accuracy: 0.892 , Area under ROC curve: 0.954\n",
      "91\n",
      "test_loss =  0.320Test Accuracy: 0.892 , Area under ROC curve: 0.954\n",
      "92\n",
      "test_loss =  0.325Test Accuracy: 0.891 , Area under ROC curve: 0.954\n",
      "93\n",
      "test_loss =  0.325Test Accuracy: 0.891 , Area under ROC curve: 0.955\n",
      "94\n",
      "test_loss =  0.325Test Accuracy: 0.891 , Area under ROC curve: 0.955\n",
      "95\n",
      "test_loss =  0.325Test Accuracy: 0.891 , Area under ROC curve: 0.955\n",
      "96\n",
      "test_loss =  0.325Test Accuracy: 0.891 , Area under ROC curve: 0.955\n",
      "97\n",
      "test_loss =  0.324Test Accuracy: 0.891 , Area under ROC curve: 0.955\n",
      "98\n",
      "test_loss =  0.324Test Accuracy: 0.891 , Area under ROC curve: 0.955\n",
      "99\n",
      "test_loss =  0.322Test Accuracy: 0.891 , Area under ROC curve: 0.955\n",
      "100\n",
      "test_loss =  0.319Test Accuracy: 0.892 , Area under ROC curve: 0.955\n",
      "101\n",
      "test_loss =  0.317Test Accuracy: 0.893 , Area under ROC curve: 0.955\n",
      "102\n",
      "test_loss =  0.316Test Accuracy: 0.894 , Area under ROC curve: 0.955\n",
      "103\n",
      "test_loss =  0.315Test Accuracy: 0.894 , Area under ROC curve: 0.955\n",
      "104\n",
      "test_loss =  0.315Test Accuracy: 0.894 , Area under ROC curve: 0.955\n",
      "105\n",
      "test_loss =  0.315Test Accuracy: 0.894 , Area under ROC curve: 0.955\n",
      "106\n",
      "test_loss =  0.313Test Accuracy: 0.894 , Area under ROC curve: 0.956\n",
      "107\n",
      "test_loss =  0.312Test Accuracy: 0.895 , Area under ROC curve: 0.956\n",
      "108\n",
      "test_loss =  0.312Test Accuracy: 0.895 , Area under ROC curve: 0.956\n",
      "109\n",
      "test_loss =  0.313Test Accuracy: 0.895 , Area under ROC curve: 0.956\n",
      "110\n",
      "test_loss =  0.313Test Accuracy: 0.895 , Area under ROC curve: 0.956\n",
      "111\n",
      "test_loss =  0.315Test Accuracy: 0.894 , Area under ROC curve: 0.956\n",
      "112\n",
      "test_loss =  0.314Test Accuracy: 0.895 , Area under ROC curve: 0.956\n",
      "113\n",
      "test_loss =  0.315Test Accuracy: 0.895 , Area under ROC curve: 0.956\n",
      "114\n"
     ]
    },
    {
     "name": "stdout",
     "output_type": "stream",
     "text": [
      "test_loss =  0.317Test Accuracy: 0.894 , Area under ROC curve: 0.956\n",
      "115\n",
      "test_loss =  0.317Test Accuracy: 0.894 , Area under ROC curve: 0.956\n",
      "116\n",
      "test_loss =  0.316Test Accuracy: 0.894 , Area under ROC curve: 0.956\n",
      "117\n",
      "test_loss =  0.315Test Accuracy: 0.894 , Area under ROC curve: 0.956\n",
      "118\n",
      "test_loss =  0.314Test Accuracy: 0.894 , Area under ROC curve: 0.956\n",
      "119\n",
      "test_loss =  0.313Test Accuracy: 0.895 , Area under ROC curve: 0.956\n",
      "120\n",
      "test_loss =  0.313Test Accuracy: 0.895 , Area under ROC curve: 0.956\n",
      "121\n",
      "test_loss =  0.312Test Accuracy: 0.895 , Area under ROC curve: 0.956\n",
      "122\n",
      "test_loss =  0.312Test Accuracy: 0.895 , Area under ROC curve: 0.957\n",
      "123\n",
      "test_loss =  0.311Test Accuracy: 0.895 , Area under ROC curve: 0.957\n",
      "124\n",
      "test_loss =  0.310Test Accuracy: 0.895 , Area under ROC curve: 0.957\n",
      "125\n",
      "test_loss =  0.311Test Accuracy: 0.894 , Area under ROC curve: 0.957\n",
      "126\n",
      "test_loss =  0.310Test Accuracy: 0.895 , Area under ROC curve: 0.957\n",
      "127\n",
      "test_loss =  0.311Test Accuracy: 0.895 , Area under ROC curve: 0.957\n",
      "128\n",
      "test_loss =  0.311Test Accuracy: 0.895 , Area under ROC curve: 0.957\n",
      "129\n",
      "test_loss =  0.311Test Accuracy: 0.895 , Area under ROC curve: 0.957\n",
      "130\n",
      "test_loss =  0.309Test Accuracy: 0.895 , Area under ROC curve: 0.957\n",
      "131\n",
      "test_loss =  0.310Test Accuracy: 0.895 , Area under ROC curve: 0.957\n",
      "132\n",
      "test_loss =  0.309Test Accuracy: 0.896 , Area under ROC curve: 0.957\n",
      "133\n",
      "test_loss =  0.309Test Accuracy: 0.896 , Area under ROC curve: 0.957\n",
      "134\n",
      "test_loss =  0.310Test Accuracy: 0.895 , Area under ROC curve: 0.957\n",
      "135\n",
      "test_loss =  0.309Test Accuracy: 0.895 , Area under ROC curve: 0.957\n",
      "136\n",
      "test_loss =  0.310Test Accuracy: 0.895 , Area under ROC curve: 0.957\n",
      "137\n",
      "test_loss =  0.309Test Accuracy: 0.895 , Area under ROC curve: 0.957\n",
      "138\n",
      "test_loss =  0.309Test Accuracy: 0.895 , Area under ROC curve: 0.957\n",
      "139\n",
      "test_loss =  0.309Test Accuracy: 0.896 , Area under ROC curve: 0.957\n",
      "140\n",
      "test_loss =  0.309Test Accuracy: 0.896 , Area under ROC curve: 0.958\n",
      "141\n",
      "test_loss =  0.308Test Accuracy: 0.896 , Area under ROC curve: 0.958\n",
      "142\n",
      "test_loss =  0.309Test Accuracy: 0.896 , Area under ROC curve: 0.958\n",
      "143\n",
      "test_loss =  0.309Test Accuracy: 0.896 , Area under ROC curve: 0.958\n",
      "144\n",
      "test_loss =  0.309Test Accuracy: 0.896 , Area under ROC curve: 0.958\n",
      "145\n",
      "test_loss =  0.309Test Accuracy: 0.895 , Area under ROC curve: 0.958\n",
      "146\n",
      "test_loss =  0.310Test Accuracy: 0.895 , Area under ROC curve: 0.958\n",
      "147\n",
      "test_loss =  0.310Test Accuracy: 0.895 , Area under ROC curve: 0.958\n",
      "148\n",
      "test_loss =  0.310Test Accuracy: 0.895 , Area under ROC curve: 0.958\n",
      "149\n",
      "test_loss =  0.311Test Accuracy: 0.894 , Area under ROC curve: 0.958\n",
      "150\n",
      "test_loss =  0.313Test Accuracy: 0.894 , Area under ROC curve: 0.958\n",
      "151\n",
      "test_loss =  0.312Test Accuracy: 0.894 , Area under ROC curve: 0.958\n",
      "152\n",
      "test_loss =  0.311Test Accuracy: 0.894 , Area under ROC curve: 0.958\n",
      "153\n",
      "test_loss =  0.312Test Accuracy: 0.894 , Area under ROC curve: 0.958\n",
      "154\n",
      "test_loss =  0.314Test Accuracy: 0.893 , Area under ROC curve: 0.958\n",
      "155\n",
      "test_loss =  0.313Test Accuracy: 0.894 , Area under ROC curve: 0.958\n",
      "156\n",
      "test_loss =  0.313Test Accuracy: 0.894 , Area under ROC curve: 0.958\n",
      "157\n"
     ]
    }
   ],
   "source": [
    "epoch_list, test_loss_list, test_acc_list, roc_curve, avg_test_loss, avg_accuracy, avg_auc, preds_all, label_all = test_model(output_node, input_node, ['test_file_0.h5'])"
   ]
  },
  {
   "cell_type": "code",
   "execution_count": 19,
   "metadata": {},
   "outputs": [
    {
     "data": {
      "text/html": [
       "<div>\n",
       "<style scoped>\n",
       "    .dataframe tbody tr th:only-of-type {\n",
       "        vertical-align: middle;\n",
       "    }\n",
       "\n",
       "    .dataframe tbody tr th {\n",
       "        vertical-align: top;\n",
       "    }\n",
       "\n",
       "    .dataframe thead th {\n",
       "        text-align: right;\n",
       "    }\n",
       "</style>\n",
       "<table border=\"1\" class=\"dataframe\">\n",
       "  <thead>\n",
       "    <tr style=\"text-align: right;\">\n",
       "      <th></th>\n",
       "      <th>0</th>\n",
       "      <th>1</th>\n",
       "    </tr>\n",
       "  </thead>\n",
       "  <tbody>\n",
       "    <tr>\n",
       "      <th>0</th>\n",
       "      <td>4850</td>\n",
       "      <td>70</td>\n",
       "    </tr>\n",
       "    <tr>\n",
       "      <th>1</th>\n",
       "      <td>992</td>\n",
       "      <td>4088</td>\n",
       "    </tr>\n",
       "  </tbody>\n",
       "</table>\n",
       "</div>"
      ],
      "text/plain": [
       "      0     1\n",
       "0  4850    70\n",
       "1   992  4088"
      ]
     },
     "execution_count": 19,
     "metadata": {},
     "output_type": "execute_result"
    }
   ],
   "source": [
    "m1_cm = pd.DataFrame(confusion_matrix(np.argmax(label_all, axis=1),np.argmax(preds_all, axis=1)))\n",
    "m1_cm"
   ]
  },
  {
   "cell_type": "code",
   "execution_count": 26,
   "metadata": {},
   "outputs": [
    {
     "name": "stdout",
     "output_type": "stream",
     "text": [
      " TPR = 0.9857723577235772 \n",
      " FPR = 0.1952755905511811 \n",
      " precision = 0.8301951386511469 \n",
      " recall = 0.9857723577235772 \n",
      " F1 score = 0.901319457349935\n"
     ]
    }
   ],
   "source": [
    "TP = m1_cm[0][0]\n",
    "FP = m1_cm[0][1]\n",
    "FN = m1_cm[1][0]\n",
    "TN = m1_cm[1][1]\n",
    "TPR = TP / (TP+FN)\n",
    "FPR = FP / (FP+TN)\n",
    "pre = TP / (TP+FP)\n",
    "rec = TP / (TP+FN)\n",
    "f1 = 2 * ((pre*rec)/(pre+rec))\n",
    "print(f' TPR = {TPR} \\n FPR = {FPR} \\n precision = {pre} \\n recall = {rec} \\n F1 score = {f1}')"
   ]
  },
  {
   "cell_type": "code",
   "execution_count": 20,
   "metadata": {},
   "outputs": [
    {
     "data": {
      "image/png": "[encoded data removed]",
      "text/plain": [
       "<Figure size 432x288 with 1 Axes>"
      ]
     },
     "metadata": {
      "needs_background": "light"
     },
     "output_type": "display_data"
    }
   ],
   "source": [
    "plot_loss(epoch_list, test_loss_list)"
   ]
  },
  {
   "cell_type": "code",
   "execution_count": 21,
   "metadata": {},
   "outputs": [
    {
     "data": {
      "image/png": "[encoded data removed]",
      "text/plain": [
       "<Figure size 432x288 with 1 Axes>"
      ]
     },
     "metadata": {
      "needs_background": "light"
     },
     "output_type": "display_data"
    }
   ],
   "source": [
    "plot_acc(epoch_list, test_acc_list)"
   ]
  },
  {
   "cell_type": "code",
   "execution_count": 22,
   "metadata": {},
   "outputs": [
    {
     "data": {
      "image/png": "[encoded data removed]",
      "text/plain": [
       "<Figure size 432x288 with 1 Axes>"
      ]
     },
     "metadata": {
      "needs_background": "light"
     },
     "output_type": "display_data"
    }
   ],
   "source": [
    "roc_plot(epoch_list, roc_curve)"
   ]
  },
  {
   "cell_type": "code",
   "execution_count": null,
   "metadata": {
    "colab": {},
    "colab_type": "code",
    "id": "fQznJpM7xrpO"
   },
   "outputs": [],
   "source": [
    "# Once results have been compiled, use this function to plot them.\n",
    "# It expects all the files to be there at runtime, so if they haven't yet been generated,\n",
    "# comment out the relevant lines.\n",
    "def plot_results(epoch_list, test_loss_list, test_acc_list, roc_curve, avg_test, avg_acc, avg_auc, test_preds_t, test_labels_t,plot_label='ROC.pdf'):\n",
    "    import os\n",
    "    import numpy as np\n",
    "    from sklearn import metrics\n",
    "\n",
    "    # Load the labels and results into memory.\n",
    "    # test_labels_t  = np.load(results_dir + \"/t_labels.npy\")\n",
    "    # test_preds_t   = np.load(results_dir + \"/t_preds.npy\")\n",
    "    # accuracy_q     = np.load(results_dir + \"/q_accuracy.npy\")\n",
    "    # test_labels_q  = np.load(results_dir + \"/q_labels.npy\")\n",
    "    # test_preds_q   = np.load(results_dir + \"/q_preds.npy\")\n",
    "    # test_labels_ft = np.load(results_dir + \"/ft_labels.npy\")\n",
    "    # test_preds_ft  = np.load(results_dir + \"/ft_preds.npy\")\n",
    "    # test_labels_b = np.load(results_dir + \"/b_labels.npy\")\n",
    "    # test_preds_b  = np.load(results_dir + \"/b_preds.npy\")\n",
    "    # test_labels_b_ft = np.load(results_dir + \"/b_labels.npy\")\n",
    "    # test_preds_b_ft  = np.load(results_dir + \"/b_newpreds.npy\")\n",
    "\n",
    "    new_test_preds_t = np.zeros(test_preds_t.shape)\n",
    "    new_test_preds_t[:,0] = test_preds_t[:,0]/np.sum(test_preds_t,axis=1)\n",
    "    new_test_preds_t[:,1] = test_preds_t[:,1]/np.sum(test_preds_t,axis=1)\n",
    "    test_preds_t = new_test_preds_t\n",
    "\n",
    "    # new_test_preds_q = np.zeros(test_preds_q.shape)\n",
    "    # new_test_preds_q[:,0] = test_preds_q[:,0]/np.sum(test_preds_q,axis=1)\n",
    "    # new_test_preds_q[:,1] = test_preds_q[:,1]/np.sum(test_preds_q,axis=1)\n",
    "    # test_preds_q = new_test_preds_q\n",
    "\n",
    "    # new_test_preds_ft = np.zeros(test_preds_ft.shape)\n",
    "    # new_test_preds_ft[:,0] = test_preds_ft[:,0]/np.sum(test_preds_ft,axis=1)\n",
    "    # new_test_preds_ft[:,1] = test_preds_ft[:,1]/np.sum(test_preds_ft,axis=1)\n",
    "    # test_preds_ft = new_test_preds_ft\n",
    "\n",
    "    # new_test_preds_b = np.zeros(test_preds_b.shape)\n",
    "    # new_test_preds_b[:,0] = test_preds_b[:,0]/np.sum(test_preds_b,axis=1)\n",
    "    # new_test_preds_b[:,1] = test_preds_b[:,1]/np.sum(test_preds_b,axis=1)\n",
    "    # test_preds_b = new_test_preds_b\n",
    "    \n",
    "    # new_test_preds_b_ft = np.zeros(test_preds_b_ft.shape)\n",
    "    # new_test_preds_b_ft[:,0] = test_preds_b_ft[:,0]/np.sum(test_preds_b_ft,axis=1)\n",
    "    # new_test_preds_b_ft[:,1] = test_preds_b_ft[:,1]/np.sum(test_preds_b_ft,axis=1)\n",
    "    # test_preds_b_ft = new_test_preds_b_ft\n",
    "    \n",
    "    accuracy_t = metrics.accuracy_score(test_labels_t[:,0], test_preds_t[:,0]>0.5)\n",
    "    # accuracy_q = metrics.accuracy_score(test_labels_q[:,0], test_preds_q[:,0]>0.5)\n",
    "    # accuracy_ft = metrics.accuracy_score(test_labels_ft[:,0], test_preds_ft[:,0]>0.5)\n",
    "    # accuracy_b = metrics.accuracy_score(test_labels_b[:,0], test_preds_b[:,0]>0.5)\n",
    "    # accuracy_b_ft = metrics.accuracy_score(test_labels_b_ft[:,0], test_preds_b_ft[:,0]>0.5)\n",
    "\n",
    "    # Determine the ROC curve for each of the tests. \n",
    "    # [:,0] will convert the labels from one-hot to binary.\n",
    "    fpr_test_t, tpr_test_t, thresholds      = metrics.roc_curve(test_labels_t[:,0],  test_preds_t[:,0])\n",
    "    # fpr_test_q, tpr_test_q, thresholds_q    = metrics.roc_curve(test_labels_q[:,0],  test_preds_q[:,0])\n",
    "    # fpr_test_ft, tpr_test_ft, thresholds_ft    = metrics.roc_curve(test_labels_ft[:,0],  test_preds_ft[:,0])\n",
    "    # fpr_test_b, tpr_test_b, thresholds_b    = metrics.roc_curve(test_labels_b[:,0],  test_preds_b[:,0])\n",
    "    # fpr_test_b_ft, tpr_test_b_ft, thresholds_b_ft    = metrics.roc_curve(test_labels_b_ft[:,0],  test_preds_b_ft[:,0])\n",
    "    \n",
    "    # Use the data we just generated to determine the area under the ROC curve.\n",
    "    # Use the data we just generated to determine the area under the ROC curve.\n",
    "    auc_test    = metrics.auc(fpr_test_t, tpr_test_t)\n",
    "    # auc_test_q  = metrics.auc(fpr_test_q, tpr_test_q)\n",
    "    # auc_test_ft  = metrics.auc(fpr_test_ft, tpr_test_ft)\n",
    "    # auc_test_b  = metrics.auc(fpr_test_b, tpr_test_b)\n",
    "    # auc_test_b_ft  = metrics.auc(fpr_test_b_ft, tpr_test_b_ft)"
   ]
  },
  {
   "cell_type": "markdown",
   "metadata": {
    "colab_type": "text",
    "id": "AJ1d-mkAu41G"
   },
   "source": [
    "# Load model from .h5 file"
   ]
  },
  {
   "cell_type": "markdown",
   "metadata": {
    "colab_type": "text",
    "id": "iGT5w-gAu41H"
   },
   "source": [
    "Change `file_name` to the path of model."
   ]
  },
  {
   "cell_type": "code",
   "execution_count": null,
   "metadata": {
    "colab": {},
    "colab_type": "code",
    "id": "K1v2Bn72u41I"
   },
   "outputs": [],
   "source": [
    "import keras\n",
    "file_name = 'class_model_best.h5'\n",
    "new_model = keras.models.load_model(file_name)\n",
    "new_model.summary()"
   ]
  },
  {
   "cell_type": "code",
   "execution_count": null,
   "metadata": {},
   "outputs": [],
   "source": [
    "plot = plot_results(test_model(output_node, input_node, ['test_file_0.h5']))\n",
    "plot.show()"
   ]
  },
  {
   "cell_type": "code",
   "execution_count": null,
   "metadata": {
    "colab": {},
    "colab_type": "code",
    "id": "Xqgzm3Vku41L"
   },
   "outputs": [],
   "source": []
  }
 ],
 "metadata": {
  "colab": {
   "collapsed_sections": [],
   "name": "testingresnet50.ipynb",
   "provenance": [],
   "toc_visible": true
  },
  "kernelspec": {
   "display_name": "Python 3",
   "language": "python",
   "name": "python3"
  },
  "language_info": {
   "codemirror_mode": {
    "name": "ipython",
    "version": 3
   },
   "file_extension": ".py",
   "mimetype": "text/x-python",
   "name": "python",
   "nbconvert_exporter": "python",
   "pygments_lexer": "ipython3",
   "version": "3.7.6"
  }
 },
 "nbformat": 4,
 "nbformat_minor": 1
}
