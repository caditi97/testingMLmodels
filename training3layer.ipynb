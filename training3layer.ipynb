{
 "cells": [
  {
   "cell_type": "code",
   "execution_count": 1,
   "metadata": {},
   "outputs": [
    {
     "name": "stdout",
     "output_type": "stream",
     "text": [
      "WARNING:tensorflow:From /Users/butterchicken/opt/anaconda2/envs/research/lib/python3.7/site-packages/tensorflow_core/python/compat/v2_compat.py:88: disable_resource_variables (from tensorflow.python.ops.variable_scope) is deprecated and will be removed in a future version.\n",
      "Instructions for updating:\n",
      "non-resource variables are not supported in the long term\n"
     ]
    },
    {
     "name": "stderr",
     "output_type": "stream",
     "text": [
      "Using TensorFlow backend.\n"
     ]
    }
   ],
   "source": [
    "import tensorflow.compat.v1 as tf\n",
    "tf.disable_v2_behavior()\n",
    "tf.enable_eager_execution() \n",
    "# from tf import keras\n",
    "# import keras\n",
    "from tensorflow.keras.models import load_model\n",
    "from tensorflow.keras.models import model_from_json\n",
    "import numpy as np\n",
    "import os\n",
    "from train import parse_config, get_features\n",
    "from eval import makeRoc, plot_confusion_matrix\n",
    "from constraints import ZeroSomeWeights\n",
    "from quantized_layers import Clip, BinaryDense, TernaryDense, QuantizedDense\n",
    "from models import binary_tanh, ternary_tanh, quantized_relu\n",
    "import yaml\n",
    "from sklearn.metrics import confusion_matrix\n",
    "import tkinter\n",
    "import matplotlib\n",
    "# matplotlib.use('TkAgg')\n",
    "import matplotlib.pyplot as plt\n",
    "%matplotlib inline\n",
    "import h5py\n",
    "import pandas as pd\n",
    "from sklearn.model_selection import train_test_split\n",
    "from sklearn import preprocessing"
   ]
  },
  {
   "cell_type": "code",
   "execution_count": 2,
   "metadata": {},
   "outputs": [
    {
     "name": "stdout",
     "output_type": "stream",
     "text": [
      "('j_ptfrac', 'j_pt', 'j_eta', 'j_mass', 'j_tau1_b1', 'j_tau2_b1', 'j_tau3_b1', 'j_tau1_b2', 'j_tau2_b2', 'j_tau3_b2', 'j_tau32_b1', 'j_tau32_b2', 'j_zlogz', 'j_c1_b0', 'j_c1_b1', 'j_c1_b2', 'j_c2_b1', 'j_c2_b2', 'j_d2_b1', 'j_d2_b2', 'j_d2_a1_b1', 'j_d2_a1_b2', 'j_m2_b1', 'j_m2_b2', 'j_n2_b1', 'j_n2_b2', 'j_tau1_b1_mmdt', 'j_tau2_b1_mmdt', 'j_tau3_b1_mmdt', 'j_tau1_b2_mmdt', 'j_tau2_b2_mmdt', 'j_tau3_b2_mmdt', 'j_tau32_b1_mmdt', 'j_tau32_b2_mmdt', 'j_c1_b0_mmdt', 'j_c1_b1_mmdt', 'j_c1_b2_mmdt', 'j_c2_b1_mmdt', 'j_c2_b2_mmdt', 'j_d2_b1_mmdt', 'j_d2_b2_mmdt', 'j_d2_a1_b1_mmdt', 'j_d2_a1_b2_mmdt', 'j_m2_b1_mmdt', 'j_m2_b2_mmdt', 'j_n2_b1_mmdt', 'j_n2_b2_mmdt', 'j_mass_trim', 'j_mass_mmdt', 'j_mass_prun', 'j_mass_sdb2', 'j_mass_sdm1', 'j_multiplicity', 'j_g', 'j_q', 'j_w', 'j_z', 'j_t', 'j_undef')\n",
      "(986806,)\n"
     ]
    }
   ],
   "source": [
    "# get data\n",
    "data_path = 'processed-pythia82-lhc13-all-pt1-50k-r1_h022_e0175_t220_nonu_truth.z'\n",
    "f = h5py.File(data_path, 'r')\n",
    "treeArray = f['t_allpar_new'][()]\n",
    "print(treeArray.dtype.names)\n",
    "print(treeArray.shape)"
   ]
  },
  {
   "cell_type": "code",
   "execution_count": 3,
   "metadata": {},
   "outputs": [
    {
     "name": "stdout",
     "output_type": "stream",
     "text": [
      "{'Inputs': ['j_zlogz', 'j_c1_b0_mmdt', 'j_c1_b1_mmdt', 'j_c1_b2_mmdt', 'j_c2_b1_mmdt', 'j_c2_b2_mmdt', 'j_d2_b1_mmdt', 'j_d2_b2_mmdt', 'j_d2_a1_b1_mmdt', 'j_d2_a1_b2_mmdt', 'j_m2_b1_mmdt', 'j_m2_b2_mmdt', 'j_n2_b1_mmdt', 'j_n2_b2_mmdt', 'j_mass_mmdt', 'j_multiplicity'], 'Labels': ['j_g', 'j_q', 'j_w', 'j_z', 'j_t'], 'KerasModel': 'three_layer_model', 'KerasModelRetrain': 'three_layer_model_constraint', 'KerasLoss': 'categorical_crossentropy', 'L1Reg': 0.0001, 'NormalizeInputs': 1, 'InputType': 'Dense'}\n"
     ]
    }
   ],
   "source": [
    "# get configuration\n",
    "import yaml\n",
    "config_file = \"train_config_threelayer.yml\"\n",
    "config = open(config_file, 'r')\n",
    "yamlConfig = yaml.load(config, Loader=yaml.FullLoader)\n",
    "print(yamlConfig)"
   ]
  },
  {
   "cell_type": "code",
   "execution_count": 4,
   "metadata": {},
   "outputs": [],
   "source": [
    "features = yamlConfig['Inputs']\n",
    "labels = yamlConfig['Labels']"
   ]
  },
  {
   "cell_type": "code",
   "execution_count": 5,
   "metadata": {},
   "outputs": [],
   "source": [
    "# convert to dataframe \n",
    "features_labels_df = pd.DataFrame(treeArray,columns=list(set(features+labels)))\n",
    "features_labels_df = features_labels_df.drop_duplicates()\n",
    "features_df = features_labels_df[features]\n",
    "labels_df = features_labels_df[labels]"
   ]
  },
  {
   "cell_type": "code",
   "execution_count": 6,
   "metadata": {},
   "outputs": [],
   "source": [
    "# Convert to numpy array \n",
    "features_val = features_df.values\n",
    "labels_val = labels_df.values   \n",
    "# print(features_val)\n",
    "# print(labels_val)"
   ]
  },
  {
   "cell_type": "code",
   "execution_count": 7,
   "metadata": {},
   "outputs": [],
   "source": [
    "X_train_val, X_test, y_train_val, y_test = train_test_split(features_val, labels_val, test_size=0.2, random_state=42)"
   ]
  },
  {
   "cell_type": "code",
   "execution_count": 8,
   "metadata": {},
   "outputs": [],
   "source": [
    "scaler = preprocessing.StandardScaler().fit(X_train_val)\n",
    "X_train_val = scaler.transform(X_train_val)\n",
    "X_test = scaler.transform(X_test)"
   ]
  },
  {
   "cell_type": "code",
   "execution_count": 9,
   "metadata": {},
   "outputs": [],
   "source": [
    "#from models import three_layer_model\n",
    "import models\n",
    "model = getattr(models, yamlConfig['KerasModel']) "
   ]
  },
  {
   "cell_type": "code",
   "execution_count": 10,
   "metadata": {},
   "outputs": [
    {
     "name": "stderr",
     "output_type": "stream",
     "text": [
      "/Users/butterchicken/research/testingMLmodels/models.py:68: UserWarning: Update your `Dense` call to the Keras 2 API: `Dense(64, activation=\"relu\", kernel_initializer=\"lecun_uniform\", name=\"fc1_relu\", kernel_regularizer=<keras.reg...)`\n",
      "  name='fc1_relu', W_regularizer=l1(l1Reg))(Inputs)\n",
      "/Users/butterchicken/research/testingMLmodels/models.py:70: UserWarning: Update your `Dense` call to the Keras 2 API: `Dense(32, activation=\"relu\", kernel_initializer=\"lecun_uniform\", name=\"fc2_relu\", kernel_regularizer=<keras.reg...)`\n",
      "  name='fc2_relu', W_regularizer=l1(l1Reg))(x)\n",
      "/Users/butterchicken/research/testingMLmodels/models.py:72: UserWarning: Update your `Dense` call to the Keras 2 API: `Dense(32, activation=\"relu\", kernel_initializer=\"lecun_uniform\", name=\"fc3_relu\", kernel_regularizer=<keras.reg...)`\n",
      "  name='fc3_relu', W_regularizer=l1(l1Reg))(x)\n",
      "/Users/butterchicken/research/testingMLmodels/models.py:74: UserWarning: Update your `Dense` call to the Keras 2 API: `Dense(5, activation=\"softmax\", kernel_initializer=\"lecun_uniform\", name=\"output_softmax\", kernel_regularizer=<keras.reg...)`\n",
      "  name='output_softmax', W_regularizer=l1(l1Reg))(x)\n"
     ]
    }
   ],
   "source": [
    "from keras.layers import Input\n",
    "keras_model = model(Input(shape=X_train_val.shape[1:]), y_train_val.shape[1], l1Reg=yamlConfig['L1Reg'] )"
   ]
  },
  {
   "cell_type": "code",
   "execution_count": 11,
   "metadata": {},
   "outputs": [],
   "source": [
    "# compile model\n",
    "from keras.optimizers import Adam, Nadam\n",
    "startlearningrate=0.0001\n",
    "adam = Adam(lr=startlearningrate)\n",
    "keras_model.compile(optimizer=adam, loss=[yamlConfig['KerasLoss']], metrics=['accuracy'])"
   ]
  },
  {
   "cell_type": "code",
   "execution_count": 12,
   "metadata": {},
   "outputs": [
    {
     "name": "stderr",
     "output_type": "stream",
     "text": [
      "/Users/butterchicken/opt/anaconda2/envs/research/lib/python3.7/site-packages/keras/callbacks/callbacks.py:998: UserWarning: `epsilon` argument is deprecated and will be removed, use `min_delta` instead.\n",
      "  warnings.warn('`epsilon` argument is deprecated and '\n"
     ]
    }
   ],
   "source": [
    "from callbacks import all_callbacks\n",
    "callbacks=all_callbacks(stop_patience=1000, \n",
    "                            lr_factor=0.5,\n",
    "                            lr_patience=10,\n",
    "                            lr_epsilon=0.000001, \n",
    "                            lr_cooldown=2, \n",
    "                            lr_minimum=0.0000001,\n",
    "                            outputDir='/Users/butterchicken/research/testingMLmodels/output')"
   ]
  },
  {
   "cell_type": "code",
   "execution_count": 13,
   "metadata": {},
   "outputs": [
    {
     "name": "stdout",
     "output_type": "stream",
     "text": [
      "Train on 592083 samples, validate on 197361 samples\n",
      "Epoch 1/100\n",
      "592083/592083 [==============================] - 2s 4us/step - loss: 1.3433 - accuracy: 0.5115 - val_loss: 1.1348 - val_accuracy: 0.6218\n",
      "Epoch 2/100\n",
      "592083/592083 [==============================] - 2s 3us/step - loss: 1.0598 - accuracy: 0.6522 - val_loss: 0.9987 - val_accuracy: 0.6770\n",
      "Epoch 3/100\n",
      "592083/592083 [==============================] - 2s 3us/step - loss: 0.9626 - accuracy: 0.6908 - val_loss: 0.9297 - val_accuracy: 0.7022\n",
      "Epoch 4/100\n",
      "592083/592083 [==============================] - 2s 3us/step - loss: 0.9089 - accuracy: 0.7075 - val_loss: 0.8901 - val_accuracy: 0.7132\n",
      "Epoch 5/100\n",
      "592083/592083 [==============================] - 2s 3us/step - loss: 0.8797 - accuracy: 0.7148 - val_loss: 0.8695 - val_accuracy: 0.7182\n",
      "Epoch 6/100\n",
      "592083/592083 [==============================] - 2s 3us/step - loss: 0.8641 - accuracy: 0.7188 - val_loss: 0.8571 - val_accuracy: 0.7220\n",
      "Epoch 7/100\n",
      "592083/592083 [==============================] - 2s 3us/step - loss: 0.8539 - accuracy: 0.7214 - val_loss: 0.8480 - val_accuracy: 0.7240\n",
      "Epoch 8/100\n",
      "592083/592083 [==============================] - 2s 3us/step - loss: 0.8461 - accuracy: 0.7233 - val_loss: 0.8408 - val_accuracy: 0.7260\n",
      "Epoch 9/100\n",
      "592083/592083 [==============================] - 2s 3us/step - loss: 0.8398 - accuracy: 0.7248 - val_loss: 0.8352 - val_accuracy: 0.7266\n",
      "Epoch 10/100\n",
      "592083/592083 [==============================] - 2s 3us/step - loss: 0.8345 - accuracy: 0.7263 - val_loss: 0.8302 - val_accuracy: 0.7279\n",
      "Epoch 11/100\n",
      "592083/592083 [==============================] - 2s 3us/step - loss: 0.8301 - accuracy: 0.7273 - val_loss: 0.8261 - val_accuracy: 0.7289\n",
      "Epoch 12/100\n",
      "592083/592083 [==============================] - 2s 3us/step - loss: 0.8263 - accuracy: 0.7284 - val_loss: 0.8224 - val_accuracy: 0.7300\n",
      "Epoch 13/100\n",
      "592083/592083 [==============================] - 2s 3us/step - loss: 0.8229 - accuracy: 0.7291 - val_loss: 0.8194 - val_accuracy: 0.7308\n",
      "Epoch 14/100\n",
      "592083/592083 [==============================] - 2s 3us/step - loss: 0.8199 - accuracy: 0.7299 - val_loss: 0.8158 - val_accuracy: 0.7314\n",
      "Epoch 15/100\n",
      "592083/592083 [==============================] - 2s 4us/step - loss: 0.8171 - accuracy: 0.7307 - val_loss: 0.8132 - val_accuracy: 0.7323\n",
      "Epoch 16/100\n",
      "592083/592083 [==============================] - 2s 4us/step - loss: 0.8145 - accuracy: 0.7313 - val_loss: 0.8106 - val_accuracy: 0.7333\n",
      "Epoch 17/100\n",
      "592083/592083 [==============================] - 2s 4us/step - loss: 0.8121 - accuracy: 0.7320 - val_loss: 0.8085 - val_accuracy: 0.7338\n",
      "Epoch 18/100\n",
      "592083/592083 [==============================] - 2s 3us/step - loss: 0.8097 - accuracy: 0.7324 - val_loss: 0.8061 - val_accuracy: 0.7340\n",
      "Epoch 19/100\n",
      "592083/592083 [==============================] - 2s 3us/step - loss: 0.8076 - accuracy: 0.7332 - val_loss: 0.8041 - val_accuracy: 0.7344\n",
      "Epoch 20/100\n",
      "592083/592083 [==============================] - 2s 4us/step - loss: 0.8056 - accuracy: 0.7337 - val_loss: 0.8018 - val_accuracy: 0.7354\n",
      "Epoch 21/100\n",
      "592083/592083 [==============================] - 2s 3us/step - loss: 0.8035 - accuracy: 0.7344 - val_loss: 0.8000 - val_accuracy: 0.7358\n",
      "Epoch 22/100\n",
      "592083/592083 [==============================] - 2s 3us/step - loss: 0.8016 - accuracy: 0.7350 - val_loss: 0.7979 - val_accuracy: 0.7360\n",
      "Epoch 23/100\n",
      "592083/592083 [==============================] - 2s 3us/step - loss: 0.7997 - accuracy: 0.7356 - val_loss: 0.7962 - val_accuracy: 0.7366\n",
      "Epoch 24/100\n",
      "592083/592083 [==============================] - 2s 3us/step - loss: 0.7979 - accuracy: 0.7361 - val_loss: 0.7948 - val_accuracy: 0.7370\n",
      "Epoch 25/100\n",
      "592083/592083 [==============================] - 2s 3us/step - loss: 0.7961 - accuracy: 0.7365 - val_loss: 0.7929 - val_accuracy: 0.7373\n",
      "Epoch 26/100\n",
      "592083/592083 [==============================] - 2s 4us/step - loss: 0.7944 - accuracy: 0.7371 - val_loss: 0.7909 - val_accuracy: 0.7382\n",
      "Epoch 27/100\n",
      "592083/592083 [==============================] - 2s 3us/step - loss: 0.7927 - accuracy: 0.7376 - val_loss: 0.7895 - val_accuracy: 0.7381\n",
      "Epoch 28/100\n",
      "592083/592083 [==============================] - 2s 3us/step - loss: 0.7910 - accuracy: 0.7380 - val_loss: 0.7880 - val_accuracy: 0.7388\n",
      "Epoch 29/100\n",
      "592083/592083 [==============================] - 2s 3us/step - loss: 0.7895 - accuracy: 0.7385 - val_loss: 0.7863 - val_accuracy: 0.7393\n",
      "Epoch 30/100\n",
      "592083/592083 [==============================] - 2s 3us/step - loss: 0.7879 - accuracy: 0.7390 - val_loss: 0.7844 - val_accuracy: 0.7398\n",
      "Epoch 31/100\n",
      "592083/592083 [==============================] - 2s 3us/step - loss: 0.7864 - accuracy: 0.7394 - val_loss: 0.7829 - val_accuracy: 0.7400\n",
      "Epoch 32/100\n",
      "592083/592083 [==============================] - 2s 3us/step - loss: 0.7850 - accuracy: 0.7397 - val_loss: 0.7815 - val_accuracy: 0.7405\n",
      "Epoch 33/100\n",
      "592083/592083 [==============================] - 2s 3us/step - loss: 0.7836 - accuracy: 0.7400 - val_loss: 0.7804 - val_accuracy: 0.7409\n",
      "Epoch 34/100\n",
      "592083/592083 [==============================] - 2s 4us/step - loss: 0.7823 - accuracy: 0.7403 - val_loss: 0.7793 - val_accuracy: 0.7408\n",
      "Epoch 35/100\n",
      "592083/592083 [==============================] - 2s 3us/step - loss: 0.7812 - accuracy: 0.7407 - val_loss: 0.7783 - val_accuracy: 0.7410\n",
      "Epoch 36/100\n",
      "592083/592083 [==============================] - 2s 3us/step - loss: 0.7801 - accuracy: 0.7411 - val_loss: 0.7773 - val_accuracy: 0.7413\n",
      "Epoch 37/100\n",
      "592083/592083 [==============================] - 2s 3us/step - loss: 0.7790 - accuracy: 0.7413 - val_loss: 0.7763 - val_accuracy: 0.7415\n",
      "Epoch 38/100\n",
      "592083/592083 [==============================] - 2s 3us/step - loss: 0.7780 - accuracy: 0.7413 - val_loss: 0.7754 - val_accuracy: 0.7419\n",
      "Epoch 39/100\n",
      "592083/592083 [==============================] - 2s 3us/step - loss: 0.7771 - accuracy: 0.7416 - val_loss: 0.7741 - val_accuracy: 0.7419\n",
      "Epoch 40/100\n",
      "592083/592083 [==============================] - 2s 3us/step - loss: 0.7762 - accuracy: 0.7420 - val_loss: 0.7735 - val_accuracy: 0.7422\n",
      "Epoch 41/100\n",
      "592083/592083 [==============================] - 2s 3us/step - loss: 0.7754 - accuracy: 0.7422 - val_loss: 0.7731 - val_accuracy: 0.7420\n",
      "Epoch 42/100\n",
      "592083/592083 [==============================] - 2s 3us/step - loss: 0.7746 - accuracy: 0.7424 - val_loss: 0.7721 - val_accuracy: 0.7426\n",
      "Epoch 43/100\n",
      "592083/592083 [==============================] - 2s 3us/step - loss: 0.7738 - accuracy: 0.7426 - val_loss: 0.7713 - val_accuracy: 0.7425\n",
      "Epoch 44/100\n",
      "592083/592083 [==============================] - 2s 3us/step - loss: 0.7730 - accuracy: 0.7428 - val_loss: 0.7708 - val_accuracy: 0.7426\n",
      "Epoch 45/100\n",
      "592083/592083 [==============================] - 2s 3us/step - loss: 0.7722 - accuracy: 0.7431 - val_loss: 0.7696 - val_accuracy: 0.7429\n",
      "Epoch 46/100\n",
      "592083/592083 [==============================] - 2s 4us/step - loss: 0.7715 - accuracy: 0.7432 - val_loss: 0.7690 - val_accuracy: 0.7432\n",
      "Epoch 47/100\n",
      "592083/592083 [==============================] - 2s 4us/step - loss: 0.7708 - accuracy: 0.7433 - val_loss: 0.7685 - val_accuracy: 0.7434\n",
      "Epoch 48/100\n",
      "592083/592083 [==============================] - 2s 3us/step - loss: 0.7701 - accuracy: 0.7434 - val_loss: 0.7682 - val_accuracy: 0.7435\n",
      "Epoch 49/100\n",
      "592083/592083 [==============================] - 2s 3us/step - loss: 0.7694 - accuracy: 0.7436 - val_loss: 0.7673 - val_accuracy: 0.7439\n",
      "Epoch 50/100\n",
      "592083/592083 [==============================] - 2s 3us/step - loss: 0.7688 - accuracy: 0.7437 - val_loss: 0.7664 - val_accuracy: 0.7437\n",
      "Epoch 51/100\n",
      "592083/592083 [==============================] - 2s 3us/step - loss: 0.7683 - accuracy: 0.7437 - val_loss: 0.7661 - val_accuracy: 0.7439\n",
      "Epoch 52/100\n",
      "592083/592083 [==============================] - 2s 3us/step - loss: 0.7676 - accuracy: 0.7439 - val_loss: 0.7656 - val_accuracy: 0.7441\n",
      "Epoch 53/100\n",
      "592083/592083 [==============================] - 2s 3us/step - loss: 0.7671 - accuracy: 0.7442 - val_loss: 0.7650 - val_accuracy: 0.7443\n",
      "Epoch 54/100\n",
      "592083/592083 [==============================] - 2s 3us/step - loss: 0.7664 - accuracy: 0.7441 - val_loss: 0.7647 - val_accuracy: 0.7442\n",
      "Epoch 55/100\n"
     ]
    },
    {
     "name": "stdout",
     "output_type": "stream",
     "text": [
      "592083/592083 [==============================] - 2s 3us/step - loss: 0.7660 - accuracy: 0.7445 - val_loss: 0.7640 - val_accuracy: 0.7445\n",
      "Epoch 56/100\n",
      "592083/592083 [==============================] - 2s 3us/step - loss: 0.7654 - accuracy: 0.7446 - val_loss: 0.7634 - val_accuracy: 0.7445\n",
      "Epoch 57/100\n",
      "592083/592083 [==============================] - 2s 3us/step - loss: 0.7649 - accuracy: 0.7448 - val_loss: 0.7636 - val_accuracy: 0.7444\n",
      "Epoch 58/100\n",
      "592083/592083 [==============================] - 2s 3us/step - loss: 0.7645 - accuracy: 0.7447 - val_loss: 0.7623 - val_accuracy: 0.7449\n",
      "Epoch 59/100\n",
      "592083/592083 [==============================] - 2s 3us/step - loss: 0.7639 - accuracy: 0.7448 - val_loss: 0.7617 - val_accuracy: 0.7447\n",
      "Epoch 60/100\n",
      "592083/592083 [==============================] - 2s 3us/step - loss: 0.7634 - accuracy: 0.7451 - val_loss: 0.7615 - val_accuracy: 0.7449\n",
      "Epoch 61/100\n",
      "592083/592083 [==============================] - 2s 3us/step - loss: 0.7629 - accuracy: 0.7452 - val_loss: 0.7610 - val_accuracy: 0.7449\n",
      "Epoch 62/100\n",
      "592083/592083 [==============================] - 2s 3us/step - loss: 0.7625 - accuracy: 0.7453 - val_loss: 0.7604 - val_accuracy: 0.7449\n",
      "Epoch 63/100\n",
      "592083/592083 [==============================] - 2s 3us/step - loss: 0.7620 - accuracy: 0.7453 - val_loss: 0.7608 - val_accuracy: 0.7453\n",
      "Epoch 64/100\n",
      "592083/592083 [==============================] - 2s 3us/step - loss: 0.7615 - accuracy: 0.7454 - val_loss: 0.7595 - val_accuracy: 0.7452\n",
      "Epoch 65/100\n",
      "592083/592083 [==============================] - 2s 3us/step - loss: 0.7611 - accuracy: 0.7455 - val_loss: 0.7589 - val_accuracy: 0.7454\n",
      "Epoch 66/100\n",
      "592083/592083 [==============================] - 2s 3us/step - loss: 0.7606 - accuracy: 0.7456 - val_loss: 0.7585 - val_accuracy: 0.7452\n",
      "Epoch 67/100\n",
      "592083/592083 [==============================] - 2s 3us/step - loss: 0.7601 - accuracy: 0.7456 - val_loss: 0.7581 - val_accuracy: 0.7451\n",
      "Epoch 68/100\n",
      "592083/592083 [==============================] - 2s 3us/step - loss: 0.7598 - accuracy: 0.7459 - val_loss: 0.7579 - val_accuracy: 0.7457\n",
      "Epoch 69/100\n",
      "592083/592083 [==============================] - 2s 3us/step - loss: 0.7594 - accuracy: 0.7459 - val_loss: 0.7569 - val_accuracy: 0.7457\n",
      "Epoch 70/100\n",
      "592083/592083 [==============================] - 2s 3us/step - loss: 0.7589 - accuracy: 0.7461 - val_loss: 0.7570 - val_accuracy: 0.7461\n",
      "Epoch 71/100\n",
      "592083/592083 [==============================] - 2s 3us/step - loss: 0.7585 - accuracy: 0.7461 - val_loss: 0.7565 - val_accuracy: 0.7455\n",
      "Epoch 72/100\n",
      "592083/592083 [==============================] - 2s 3us/step - loss: 0.7581 - accuracy: 0.7463 - val_loss: 0.7560 - val_accuracy: 0.7462\n",
      "Epoch 73/100\n",
      "592083/592083 [==============================] - 2s 3us/step - loss: 0.7578 - accuracy: 0.7462 - val_loss: 0.7558 - val_accuracy: 0.7458\n",
      "Epoch 74/100\n",
      "592083/592083 [==============================] - 2s 3us/step - loss: 0.7574 - accuracy: 0.7464 - val_loss: 0.7553 - val_accuracy: 0.7461\n",
      "Epoch 75/100\n",
      "592083/592083 [==============================] - 2s 3us/step - loss: 0.7570 - accuracy: 0.7465 - val_loss: 0.7554 - val_accuracy: 0.7461\n",
      "Epoch 76/100\n",
      "592083/592083 [==============================] - 2s 3us/step - loss: 0.7566 - accuracy: 0.7465 - val_loss: 0.7547 - val_accuracy: 0.7465\n",
      "Epoch 77/100\n",
      "592083/592083 [==============================] - 2s 3us/step - loss: 0.7562 - accuracy: 0.7466 - val_loss: 0.7542 - val_accuracy: 0.7461\n",
      "Epoch 78/100\n",
      "592083/592083 [==============================] - 2s 4us/step - loss: 0.7558 - accuracy: 0.7467 - val_loss: 0.7538 - val_accuracy: 0.7465\n",
      "Epoch 79/100\n",
      "592083/592083 [==============================] - 2s 3us/step - loss: 0.7554 - accuracy: 0.7467 - val_loss: 0.7536 - val_accuracy: 0.7464\n",
      "Epoch 80/100\n",
      "592083/592083 [==============================] - 2s 3us/step - loss: 0.7551 - accuracy: 0.7469 - val_loss: 0.7528 - val_accuracy: 0.7465\n",
      "Epoch 81/100\n",
      "592083/592083 [==============================] - 2s 4us/step - loss: 0.7547 - accuracy: 0.7469 - val_loss: 0.7535 - val_accuracy: 0.7466\n",
      "Epoch 82/100\n",
      "592083/592083 [==============================] - 2s 3us/step - loss: 0.7543 - accuracy: 0.7469 - val_loss: 0.7524 - val_accuracy: 0.7469\n",
      "Epoch 83/100\n",
      "592083/592083 [==============================] - 2s 3us/step - loss: 0.7540 - accuracy: 0.7471 - val_loss: 0.7525 - val_accuracy: 0.7465\n",
      "Epoch 84/100\n",
      "592083/592083 [==============================] - 2s 3us/step - loss: 0.7536 - accuracy: 0.7471 - val_loss: 0.7523 - val_accuracy: 0.7471\n",
      "Epoch 85/100\n",
      "592083/592083 [==============================] - 2s 4us/step - loss: 0.7534 - accuracy: 0.7472 - val_loss: 0.7521 - val_accuracy: 0.7470\n",
      "Epoch 86/100\n",
      "592083/592083 [==============================] - 2s 4us/step - loss: 0.7531 - accuracy: 0.7472 - val_loss: 0.7511 - val_accuracy: 0.7471\n",
      "Epoch 87/100\n",
      "592083/592083 [==============================] - 2s 3us/step - loss: 0.7528 - accuracy: 0.7472 - val_loss: 0.7509 - val_accuracy: 0.7470\n",
      "Epoch 88/100\n",
      "592083/592083 [==============================] - 2s 3us/step - loss: 0.7524 - accuracy: 0.7475 - val_loss: 0.7507 - val_accuracy: 0.7472\n",
      "Epoch 89/100\n",
      "592083/592083 [==============================] - 2s 3us/step - loss: 0.7521 - accuracy: 0.7475 - val_loss: 0.7505 - val_accuracy: 0.7472\n",
      "Epoch 90/100\n",
      "592083/592083 [==============================] - 2s 3us/step - loss: 0.7518 - accuracy: 0.7476 - val_loss: 0.7500 - val_accuracy: 0.7472\n",
      "Epoch 91/100\n",
      "592083/592083 [==============================] - 2s 3us/step - loss: 0.7515 - accuracy: 0.7476 - val_loss: 0.7495 - val_accuracy: 0.7473\n",
      "Epoch 92/100\n",
      "592083/592083 [==============================] - 2s 3us/step - loss: 0.7512 - accuracy: 0.7476 - val_loss: 0.7494 - val_accuracy: 0.7473\n",
      "Epoch 93/100\n",
      "592083/592083 [==============================] - 2s 3us/step - loss: 0.7509 - accuracy: 0.7477 - val_loss: 0.7498 - val_accuracy: 0.7473\n",
      "Epoch 94/100\n",
      "592083/592083 [==============================] - 2s 3us/step - loss: 0.7507 - accuracy: 0.7477 - val_loss: 0.7490 - val_accuracy: 0.7475\n",
      "Epoch 95/100\n",
      "592083/592083 [==============================] - 2s 3us/step - loss: 0.7504 - accuracy: 0.7478 - val_loss: 0.7488 - val_accuracy: 0.7474\n",
      "Epoch 96/100\n",
      "592083/592083 [==============================] - 2s 3us/step - loss: 0.7502 - accuracy: 0.7477 - val_loss: 0.7491 - val_accuracy: 0.7473\n",
      "Epoch 97/100\n",
      "592083/592083 [==============================] - 2s 3us/step - loss: 0.7500 - accuracy: 0.7478 - val_loss: 0.7482 - val_accuracy: 0.7472\n",
      "Epoch 98/100\n",
      "592083/592083 [==============================] - 2s 3us/step - loss: 0.7497 - accuracy: 0.7478 - val_loss: 0.7481 - val_accuracy: 0.7476\n",
      "Epoch 99/100\n",
      "592083/592083 [==============================] - 2s 3us/step - loss: 0.7494 - accuracy: 0.7480 - val_loss: 0.7485 - val_accuracy: 0.7477\n",
      "Epoch 100/100\n",
      "592083/592083 [==============================] - 2s 3us/step - loss: 0.7491 - accuracy: 0.7479 - val_loss: 0.7479 - val_accuracy: 0.7479\n"
     ]
    },
    {
     "data": {
      "text/plain": [
       "<keras.callbacks.callbacks.History at 0x14b1f8290>"
      ]
     },
     "execution_count": 13,
     "metadata": {},
     "output_type": "execute_result"
    }
   ],
   "source": [
    "keras_model.fit(X_train_val, y_train_val, batch_size = 1024, epochs = 100, \n",
    "                validation_split = 0.25, shuffle = True)"
   ]
  },
  {
   "cell_type": "code",
   "execution_count": 14,
   "metadata": {},
   "outputs": [
    {
     "data": {
      "text/plain": [
       "[0.7500925313290756, 0.747585654258728]"
      ]
     },
     "execution_count": 14,
     "metadata": {},
     "output_type": "execute_result"
    }
   ],
   "source": [
    "keras_model.evaluate(X_test,y_test,verbose=0)"
   ]
  },
  {
   "cell_type": "code",
   "execution_count": 15,
   "metadata": {},
   "outputs": [
    {
     "data": {
      "text/plain": [
       "True"
      ]
     },
     "execution_count": 15,
     "metadata": {},
     "output_type": "execute_result"
    }
   ],
   "source": [
    "tf.executing_eagerly() "
   ]
  },
  {
   "cell_type": "code",
   "execution_count": 16,
   "metadata": {},
   "outputs": [],
   "source": [
    "keras_model.save(\"re3layer.h5\")"
   ]
  },
  {
   "cell_type": "code",
   "execution_count": 17,
   "metadata": {},
   "outputs": [
    {
     "ename": "AttributeError",
     "evalue": "'function' object has no attribute 'save_weights'",
     "output_type": "error",
     "traceback": [
      "\u001b[0;31m---------------------------------------------------------------------------\u001b[0m",
      "\u001b[0;31mAttributeError\u001b[0m                            Traceback (most recent call last)",
      "\u001b[0;32m<ipython-input-17-6d6da0f5e21c>\u001b[0m in \u001b[0;36m<module>\u001b[0;34m\u001b[0m\n\u001b[1;32m      2\u001b[0m \u001b[0;32mwith\u001b[0m \u001b[0mopen\u001b[0m\u001b[0;34m(\u001b[0m\u001b[0;34m\"3layermodel.json\"\u001b[0m\u001b[0;34m,\u001b[0m \u001b[0;34m\"w\"\u001b[0m\u001b[0;34m)\u001b[0m \u001b[0;32mas\u001b[0m \u001b[0mjson_file\u001b[0m\u001b[0;34m:\u001b[0m\u001b[0;34m\u001b[0m\u001b[0;34m\u001b[0m\u001b[0m\n\u001b[1;32m      3\u001b[0m     \u001b[0mjson_file\u001b[0m\u001b[0;34m.\u001b[0m\u001b[0mwrite\u001b[0m\u001b[0;34m(\u001b[0m\u001b[0mmodel_json\u001b[0m\u001b[0;34m)\u001b[0m\u001b[0;34m\u001b[0m\u001b[0;34m\u001b[0m\u001b[0m\n\u001b[0;32m----> 4\u001b[0;31m \u001b[0mmodel\u001b[0m\u001b[0;34m.\u001b[0m\u001b[0msave_weights\u001b[0m\u001b[0;34m(\u001b[0m\u001b[0;34m\"3layermodelweights.h5\"\u001b[0m\u001b[0;34m)\u001b[0m\u001b[0;34m\u001b[0m\u001b[0;34m\u001b[0m\u001b[0m\n\u001b[0m\u001b[1;32m      5\u001b[0m \u001b[0mprint\u001b[0m\u001b[0;34m(\u001b[0m\u001b[0;34m\"Saved model to disk\"\u001b[0m\u001b[0;34m)\u001b[0m\u001b[0;34m\u001b[0m\u001b[0;34m\u001b[0m\u001b[0m\n",
      "\u001b[0;31mAttributeError\u001b[0m: 'function' object has no attribute 'save_weights'"
     ]
    }
   ],
   "source": [
    "model_json = keras_model.to_json()\n",
    "with open(\"3layermodel.json\", \"w\") as json_file:\n",
    "    json_file.write(model_json)\n",
    "keras_model.save_weights(\"3layermodelweights.h5\")\n",
    "print(\"Saved model to disk\")\n"
   ]
  },
  {
   "cell_type": "code",
   "execution_count": 18,
   "metadata": {},
   "outputs": [],
   "source": [
    "from collections import namedtuple\n",
    "import sys\n",
    "N = namedtuple(\"options\", \"inputModel inputFile tree config jsonModel\")\n",
    "options = N(\n",
    "    inputModel = 're3layer.h5',\n",
    "    inputFile = 'processed-pythia82-lhc13-all-pt1-50k-r1_h022_e0175_t220_nonu_truth.z',\n",
    "    tree = 't_allpar_new',\n",
    "    config = 'train_config_threelayer.yml',\n",
    "    jsonModel = '3layermodel.json'\n",
    ")"
   ]
  },
  {
   "cell_type": "code",
   "execution_count": 19,
   "metadata": {},
   "outputs": [
    {
     "name": "stdout",
     "output_type": "stream",
     "text": [
      "{'Inputs': ['j_zlogz', 'j_c1_b0_mmdt', 'j_c1_b1_mmdt', 'j_c1_b2_mmdt', 'j_c2_b1_mmdt', 'j_c2_b2_mmdt', 'j_d2_b1_mmdt', 'j_d2_b2_mmdt', 'j_d2_a1_b1_mmdt', 'j_d2_a1_b2_mmdt', 'j_m2_b1_mmdt', 'j_m2_b2_mmdt', 'j_n2_b1_mmdt', 'j_n2_b2_mmdt', 'j_mass_mmdt', 'j_multiplicity'], 'Labels': ['j_g', 'j_q', 'j_w', 'j_z', 'j_t'], 'KerasModel': 'three_layer_model', 'KerasModelRetrain': 'three_layer_model_constraint', 'KerasLoss': 'categorical_crossentropy', 'L1Reg': 0.0001, 'NormalizeInputs': 1, 'InputType': 'Dense'}\n"
     ]
    }
   ],
   "source": [
    "config = open(options.config, 'r')\n",
    "yamlConfig =  yaml.load(config, Loader=yaml.FullLoader)\n",
    "print(yamlConfig)"
   ]
  },
  {
   "cell_type": "code",
   "execution_count": 20,
   "metadata": {},
   "outputs": [
    {
     "name": "stderr",
     "output_type": "stream",
     "text": [
      "/Users/butterchicken/research/testingMLmodels/train.py:33: H5pyDeprecationWarning: The default file mode will change to 'r' (read-only) in h5py 3.0. To suppress this warning, pass the mode you need to h5py.File(), or set the global default h5.get_config().default_file_mode, or set the environment variable H5PY_DEFAULT_READONLY=1. Available modes are: 'r', 'r+', 'w', 'w-'/'x', 'a'. See the docs for details.\n",
      "  h5File = h5py.File(options.inputFile)\n"
     ]
    },
    {
     "name": "stdout",
     "output_type": "stream",
     "text": [
      "(986806,)\n",
      "('j_ptfrac', 'j_pt', 'j_eta', 'j_mass', 'j_tau1_b1', 'j_tau2_b1', 'j_tau3_b1', 'j_tau1_b2', 'j_tau2_b2', 'j_tau3_b2', 'j_tau32_b1', 'j_tau32_b2', 'j_zlogz', 'j_c1_b0', 'j_c1_b1', 'j_c1_b2', 'j_c2_b1', 'j_c2_b2', 'j_d2_b1', 'j_d2_b2', 'j_d2_a1_b1', 'j_d2_a1_b2', 'j_m2_b1', 'j_m2_b2', 'j_n2_b1', 'j_n2_b2', 'j_tau1_b1_mmdt', 'j_tau2_b1_mmdt', 'j_tau3_b1_mmdt', 'j_tau1_b2_mmdt', 'j_tau2_b2_mmdt', 'j_tau3_b2_mmdt', 'j_tau32_b1_mmdt', 'j_tau32_b2_mmdt', 'j_c1_b0_mmdt', 'j_c1_b1_mmdt', 'j_c1_b2_mmdt', 'j_c2_b1_mmdt', 'j_c2_b2_mmdt', 'j_d2_b1_mmdt', 'j_d2_b2_mmdt', 'j_d2_a1_b1_mmdt', 'j_d2_a1_b2_mmdt', 'j_m2_b1_mmdt', 'j_m2_b2_mmdt', 'j_n2_b1_mmdt', 'j_n2_b2_mmdt', 'j_mass_trim', 'j_mass_mmdt', 'j_mass_prun', 'j_mass_sdb2', 'j_mass_sdm1', 'j_multiplicity', 'j_g', 'j_q', 'j_w', 'j_z', 'j_t', 'j_undef')\n"
     ]
    }
   ],
   "source": [
    "X_train_val, X_test, y_train_val, y_test, labels  = get_features(options, yamlConfig)"
   ]
  },
  {
   "cell_type": "code",
   "execution_count": 21,
   "metadata": {},
   "outputs": [],
   "source": [
    "json_file = open(options.jsonModel, 'r')\n",
    "model = json_file.read()\n",
    "json_file.close()\n",
    "model = model_from_json(model, custom_objects={'ZeroSomeWeights': ZeroSomeWeights,\n",
    "                                                           'BinaryDense': BinaryDense,\n",
    "                                                           'TernaryDense': TernaryDense,\n",
    "                                                           'QuantizedDense': QuantizedDense,\n",
    "                                                           'binary_tanh': binary_tanh,\n",
    "                                                           'ternary_tanh': ternary_tanh,\n",
    "                                                           'quantized_relu': quantized_relu,\n",
    "                                                           'Clip': Clip})"
   ]
  },
  {
   "cell_type": "code",
   "execution_count": 22,
   "metadata": {},
   "outputs": [
    {
     "name": "stdout",
     "output_type": "stream",
     "text": [
      "Model: \"model_1\"\n",
      "_________________________________________________________________\n",
      "Layer (type)                 Output Shape              Param #   \n",
      "=================================================================\n",
      "input_1 (InputLayer)         [(None, 16)]              0         \n",
      "_________________________________________________________________\n",
      "fc1_relu (Dense)             (None, 64)                1088      \n",
      "_________________________________________________________________\n",
      "fc2_relu (Dense)             (None, 32)                2080      \n",
      "_________________________________________________________________\n",
      "fc3_relu (Dense)             (None, 32)                1056      \n",
      "_________________________________________________________________\n",
      "output_softmax (Dense)       (None, 5)                 165       \n",
      "=================================================================\n",
      "Total params: 4,389\n",
      "Trainable params: 4,389\n",
      "Non-trainable params: 0\n",
      "_________________________________________________________________\n"
     ]
    }
   ],
   "source": [
    "model.load_weights(options.inputModel)\n",
    "model.summary()"
   ]
  },
  {
   "cell_type": "code",
   "execution_count": 23,
   "metadata": {},
   "outputs": [
    {
     "name": "stdout",
     "output_type": "stream",
     "text": [
      "Plot ROC curve\n",
      "in makeRoc()\n"
     ]
    },
    {
     "data": {
      "image/png": "[encoded data removed]",
      "text/plain": [
       "<Figure size 432x288 with 1 Axes>"
      ]
     },
     "metadata": {
      "needs_background": "light"
     },
     "output_type": "display_data"
    },
    {
     "name": "stdout",
     "output_type": "stream",
     "text": [
      "Plot confusion matrix\n"
     ]
    },
    {
     "data": {
      "image/png": "[encoded data removed]",
      "text/plain": [
       "<Figure size 432x288 with 2 Axes>"
      ]
     },
     "metadata": {
      "needs_background": "light"
     },
     "output_type": "display_data"
    },
    {
     "name": "stdout",
     "output_type": "stream",
     "text": [
      "Plot normalized confusion matrix\n"
     ]
    },
    {
     "data": {
      "image/png": "[encoded data removed]",
      "text/plain": [
       "<Figure size 432x288 with 2 Axes>"
      ]
     },
     "metadata": {
      "needs_background": "light"
     },
     "output_type": "display_data"
    }
   ],
   "source": [
    "print(\"Plot ROC curve\")\n",
    "y_predict = makeRoc(X_test, labels, y_test, model)\n",
    "plt.show()\n",
    "# print(y_predict)\n",
    "\n",
    "y_test_proba = y_test.argmax(axis=1)\n",
    "y_predict_proba = y_predict.argmax(axis=1)\n",
    "\n",
    "print(\"Plot confusion matrix\")\n",
    "# Compute non-normalized confusion matrix\n",
    "cnf_matrix = confusion_matrix(y_test_proba, y_predict_proba)\n",
    "np.set_printoptions(precision=2)\n",
    "\n",
    "# Plot non-normalized confusion matrix\n",
    "plt.figure()\n",
    "plot_confusion_matrix(cnf_matrix, classes=[l.replace('j_','') for l in labels],\n",
    "                          title='Confusion matrix')\n",
    "# plt.show()\n",
    "print(\"Plot normalized confusion matrix\")\n",
    "\n",
    "# Plot normalized confusion matrix\n",
    "plt.figure()\n",
    "plot_confusion_matrix(cnf_matrix, classes=[l.replace('j_','') for l in labels], normalize=True,\n",
    "                          title='Normalized confusion matrix')\n",
    "# plt.show()"
   ]
  },
  {
   "cell_type": "code",
   "execution_count": null,
   "metadata": {},
   "outputs": [],
   "source": []
  },
  {
   "cell_type": "code",
   "execution_count": null,
   "metadata": {},
   "outputs": [],
   "source": []
  }
 ],
 "metadata": {
  "kernelspec": {
   "display_name": "Python 3",
   "language": "python",
   "name": "python3"
  },
  "language_info": {
   "codemirror_mode": {
    "name": "ipython",
    "version": 3
   },
   "file_extension": ".py",
   "mimetype": "text/x-python",
   "name": "python",
   "nbconvert_exporter": "python",
   "pygments_lexer": "ipython3",
   "version": "3.7.6"
  }
 },
 "nbformat": 4,
 "nbformat_minor": 4
}
