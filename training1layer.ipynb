{
 "cells": [
  {
   "cell_type": "code",
   "execution_count": 1,
   "metadata": {},
   "outputs": [
    {
     "name": "stdout",
     "output_type": "stream",
     "text": [
      "WARNING:tensorflow:From /Users/butterchicken/opt/anaconda2/envs/research/lib/python3.7/site-packages/tensorflow_core/python/compat/v2_compat.py:88: disable_resource_variables (from tensorflow.python.ops.variable_scope) is deprecated and will be removed in a future version.\n",
      "Instructions for updating:\n",
      "non-resource variables are not supported in the long term\n"
     ]
    },
    {
     "name": "stderr",
     "output_type": "stream",
     "text": [
      "Using TensorFlow backend.\n"
     ]
    }
   ],
   "source": [
    "import tensorflow.compat.v1 as tf\n",
    "tf.disable_v2_behavior()\n",
    "# from tf import keras\n",
    "# import keras\n",
    "from tensorflow.keras.models import load_model\n",
    "from tensorflow.keras.models import model_from_json\n",
    "import numpy as np\n",
    "import os\n",
    "from train import parse_config, get_features\n",
    "from eval import makeRoc, plot_confusion_matrix\n",
    "from constraints import ZeroSomeWeights\n",
    "from quantized_layers import Clip, BinaryDense, TernaryDense, QuantizedDense\n",
    "from models import binary_tanh, ternary_tanh, quantized_relu\n",
    "import yaml\n",
    "from sklearn.metrics import confusion_matrix\n",
    "import tkinter\n",
    "import matplotlib\n",
    "# matplotlib.use('TkAgg')\n",
    "import matplotlib.pyplot as plt\n",
    "%matplotlib inline\n",
    "import h5py\n",
    "import pandas as pd\n",
    "from sklearn.model_selection import train_test_split"
   ]
  },
  {
   "cell_type": "code",
   "execution_count": 2,
   "metadata": {},
   "outputs": [
    {
     "name": "stdout",
     "output_type": "stream",
     "text": [
      "('j_ptfrac', 'j_pt', 'j_eta', 'j_mass', 'j_tau1_b1', 'j_tau2_b1', 'j_tau3_b1', 'j_tau1_b2', 'j_tau2_b2', 'j_tau3_b2', 'j_tau32_b1', 'j_tau32_b2', 'j_zlogz', 'j_c1_b0', 'j_c1_b1', 'j_c1_b2', 'j_c2_b1', 'j_c2_b2', 'j_d2_b1', 'j_d2_b2', 'j_d2_a1_b1', 'j_d2_a1_b2', 'j_m2_b1', 'j_m2_b2', 'j_n2_b1', 'j_n2_b2', 'j_tau1_b1_mmdt', 'j_tau2_b1_mmdt', 'j_tau3_b1_mmdt', 'j_tau1_b2_mmdt', 'j_tau2_b2_mmdt', 'j_tau3_b2_mmdt', 'j_tau32_b1_mmdt', 'j_tau32_b2_mmdt', 'j_c1_b0_mmdt', 'j_c1_b1_mmdt', 'j_c1_b2_mmdt', 'j_c2_b1_mmdt', 'j_c2_b2_mmdt', 'j_d2_b1_mmdt', 'j_d2_b2_mmdt', 'j_d2_a1_b1_mmdt', 'j_d2_a1_b2_mmdt', 'j_m2_b1_mmdt', 'j_m2_b2_mmdt', 'j_n2_b1_mmdt', 'j_n2_b2_mmdt', 'j_mass_trim', 'j_mass_mmdt', 'j_mass_prun', 'j_mass_sdb2', 'j_mass_sdm1', 'j_multiplicity', 'j_g', 'j_q', 'j_w', 'j_z', 'j_t', 'j_undef')\n",
      "(986806,)\n"
     ]
    }
   ],
   "source": [
    "# get data\n",
    "data_path = 'processed-pythia82-lhc13-all-pt1-50k-r1_h022_e0175_t220_nonu_truth.z'\n",
    "f = h5py.File(data_path, 'r')\n",
    "treeArray = f['t_allpar_new'][()]\n",
    "print(treeArray.dtype.names)\n",
    "print(treeArray.shape)"
   ]
  },
  {
   "cell_type": "code",
   "execution_count": 3,
   "metadata": {},
   "outputs": [
    {
     "name": "stdout",
     "output_type": "stream",
     "text": [
      "{'Inputs': ['j_zlogz', 'j_c1_b0_mmdt', 'j_c1_b1_mmdt', 'j_c2_b1_mmdt', 'j_d2_b1_mmdt', 'j_d2_a1_b1_mmdt', 'j_m2_b1_mmdt', 'j_n2_b1_mmdt', 'j_mass_mmdt', 'j_multiplicity'], 'Labels': ['j_t'], 'KerasModel': 'two_layer_model', 'KerasModelRetrain': 'two_layer_model_constraint', 'KerasLoss': 'binary_crossentropy', 'L1Reg': 0, 'NormalizeInputs': 0, 'ConvInputs': 0, 'InputType': 'Dense'}\n"
     ]
    }
   ],
   "source": [
    "# get configuration\n",
    "import yaml\n",
    "config_file = \"train_config_twolayer.yml\"\n",
    "config = open(config_file, 'r')\n",
    "yamlConfig = yaml.load(config, Loader=yaml.FullLoader)\n",
    "print(yamlConfig)"
   ]
  },
  {
   "cell_type": "code",
   "execution_count": 4,
   "metadata": {},
   "outputs": [],
   "source": [
    "features = yamlConfig['Inputs']\n",
    "labels = yamlConfig['Labels']"
   ]
  },
  {
   "cell_type": "code",
   "execution_count": 5,
   "metadata": {},
   "outputs": [],
   "source": [
    "# convert to dataframe \n",
    "features_labels_df = pd.DataFrame(treeArray,columns=list(set(features+labels)))\n",
    "features_labels_df = features_labels_df.drop_duplicates()\n",
    "features_df = features_labels_df[features]\n",
    "labels_df = features_labels_df[labels]"
   ]
  },
  {
   "cell_type": "code",
   "execution_count": 6,
   "metadata": {},
   "outputs": [],
   "source": [
    "# Convert to numpy array \n",
    "features_val = features_df.values\n",
    "labels_val = labels_df.values   \n",
    "# print(features_val)\n",
    "# print(labels_val)"
   ]
  },
  {
   "cell_type": "code",
   "execution_count": 7,
   "metadata": {},
   "outputs": [],
   "source": [
    "X_train_val, X_test, y_train_val, y_test = train_test_split(features_val, labels_val, test_size=0.2, random_state=42)"
   ]
  },
  {
   "cell_type": "code",
   "execution_count": 8,
   "metadata": {},
   "outputs": [],
   "source": [
    "#from models import two_layer_model\n",
    "import models\n",
    "model = getattr(models, yamlConfig['KerasModel']) "
   ]
  },
  {
   "cell_type": "code",
   "execution_count": 9,
   "metadata": {},
   "outputs": [
    {
     "name": "stdout",
     "output_type": "stream",
     "text": [
      "WARNING:tensorflow:From /Users/butterchicken/opt/anaconda2/envs/research/lib/python3.7/site-packages/tensorflow_core/python/ops/resource_variable_ops.py:1635: calling BaseResourceVariable.__init__ (from tensorflow.python.ops.resource_variable_ops) with constraint is deprecated and will be removed in a future version.\n",
      "Instructions for updating:\n",
      "If using Keras pass *_constraint arguments to layers.\n"
     ]
    },
    {
     "name": "stderr",
     "output_type": "stream",
     "text": [
      "/Users/butterchicken/research/testingMLmodels/models.py:44: UserWarning: Update your `Dense` call to the Keras 2 API: `Dense(32, activation=\"relu\", kernel_initializer=\"lecun_uniform\", name=\"fc1_relu\", kernel_regularizer=<keras.reg...)`\n",
      "  name='fc1_relu', W_regularizer=l1(l1Reg))(Inputs)\n",
      "/Users/butterchicken/research/testingMLmodels/models.py:46: UserWarning: Update your `Dense` call to the Keras 2 API: `Dense(1, activation=\"sigmoid\", kernel_initializer=\"lecun_uniform\", name=\"output_sigmoid\", kernel_regularizer=<keras.reg...)`\n",
      "  name = 'output_sigmoid', W_regularizer=l1(l1Reg))(x)\n"
     ]
    }
   ],
   "source": [
    "from keras.layers import Input\n",
    "keras_model = model(Input(shape=X_train_val.shape[1:]), y_train_val.shape[1], l1Reg=yamlConfig['L1Reg'] )"
   ]
  },
  {
   "cell_type": "code",
   "execution_count": 10,
   "metadata": {},
   "outputs": [],
   "source": [
    "# compile model\n",
    "from keras.optimizers import Adam, Nadam\n",
    "startlearningrate=0.0001\n",
    "adam = Adam(lr=startlearningrate)\n",
    "keras_model.compile(optimizer=adam, loss=[yamlConfig['KerasLoss']], metrics=['accuracy'])"
   ]
  },
  {
   "cell_type": "code",
   "execution_count": 11,
   "metadata": {},
   "outputs": [
    {
     "name": "stderr",
     "output_type": "stream",
     "text": [
      "/Users/butterchicken/opt/anaconda2/envs/research/lib/python3.7/site-packages/keras/callbacks/callbacks.py:998: UserWarning: `epsilon` argument is deprecated and will be removed, use `min_delta` instead.\n",
      "  warnings.warn('`epsilon` argument is deprecated and '\n"
     ]
    }
   ],
   "source": [
    "from callbacks import all_callbacks\n",
    "callbacks=all_callbacks(stop_patience=1000, \n",
    "                            lr_factor=0.5,\n",
    "                            lr_patience=10,\n",
    "                            lr_epsilon=0.000001, \n",
    "                            lr_cooldown=2, \n",
    "                            lr_minimum=0.0000001,\n",
    "                            outputDir='/Users/butterchicken/research/testingMLmodels/output')"
   ]
  },
  {
   "cell_type": "code",
   "execution_count": 12,
   "metadata": {},
   "outputs": [
    {
     "name": "stdout",
     "output_type": "stream",
     "text": [
      "Train on 592083 samples, validate on 197361 samples\n",
      "Epoch 1/100\n",
      "592083/592083 [==============================] - 1s 2us/step - loss: 2.8620 - accuracy: 0.5396 - val_loss: 0.5799 - val_accuracy: 0.7094\n",
      "Epoch 2/100\n",
      "592083/592083 [==============================] - 1s 1us/step - loss: 0.4952 - accuracy: 0.7739 - val_loss: 0.4588 - val_accuracy: 0.8059\n",
      "Epoch 3/100\n",
      "592083/592083 [==============================] - 1s 1us/step - loss: 0.4440 - accuracy: 0.8224 - val_loss: 0.4341 - val_accuracy: 0.8463\n",
      "Epoch 4/100\n",
      "592083/592083 [==============================] - 1s 1us/step - loss: 0.4230 - accuracy: 0.8495 - val_loss: 0.4142 - val_accuracy: 0.8662\n",
      "Epoch 5/100\n",
      "592083/592083 [==============================] - 1s 2us/step - loss: 0.4036 - accuracy: 0.8625 - val_loss: 0.3952 - val_accuracy: 0.8649\n",
      "Epoch 6/100\n",
      "592083/592083 [==============================] - 1s 1us/step - loss: 0.3856 - accuracy: 0.8684 - val_loss: 0.3781 - val_accuracy: 0.8713\n",
      "Epoch 7/100\n",
      "592083/592083 [==============================] - 1s 1us/step - loss: 0.3703 - accuracy: 0.8708 - val_loss: 0.3643 - val_accuracy: 0.8733\n",
      "Epoch 8/100\n",
      "592083/592083 [==============================] - 1s 1us/step - loss: 0.3590 - accuracy: 0.8728 - val_loss: 0.3552 - val_accuracy: 0.8725\n",
      "Epoch 9/100\n",
      "592083/592083 [==============================] - 1s 2us/step - loss: 0.3519 - accuracy: 0.8740 - val_loss: 0.3499 - val_accuracy: 0.8715\n",
      "Epoch 10/100\n",
      "592083/592083 [==============================] - 1s 2us/step - loss: 0.3474 - accuracy: 0.8746 - val_loss: 0.3455 - val_accuracy: 0.8742\n",
      "Epoch 11/100\n",
      "592083/592083 [==============================] - 1s 2us/step - loss: 0.3440 - accuracy: 0.8751 - val_loss: 0.3425 - val_accuracy: 0.8760\n",
      "Epoch 12/100\n",
      "592083/592083 [==============================] - 1s 2us/step - loss: 0.3415 - accuracy: 0.8755 - val_loss: 0.3405 - val_accuracy: 0.8741\n",
      "Epoch 13/100\n",
      "592083/592083 [==============================] - 1s 2us/step - loss: 0.3394 - accuracy: 0.8759 - val_loss: 0.3391 - val_accuracy: 0.8722\n",
      "Epoch 14/100\n",
      "592083/592083 [==============================] - 1s 2us/step - loss: 0.3376 - accuracy: 0.8764 - val_loss: 0.3365 - val_accuracy: 0.8790\n",
      "Epoch 15/100\n",
      "592083/592083 [==============================] - 1s 2us/step - loss: 0.3360 - accuracy: 0.8770 - val_loss: 0.3349 - val_accuracy: 0.8793\n",
      "Epoch 16/100\n",
      "592083/592083 [==============================] - 1s 2us/step - loss: 0.3343 - accuracy: 0.8772 - val_loss: 0.3335 - val_accuracy: 0.8798\n",
      "Epoch 17/100\n",
      "592083/592083 [==============================] - 1s 2us/step - loss: 0.3330 - accuracy: 0.8778 - val_loss: 0.3320 - val_accuracy: 0.8780\n",
      "Epoch 18/100\n",
      "592083/592083 [==============================] - 1s 2us/step - loss: 0.3316 - accuracy: 0.8782 - val_loss: 0.3307 - val_accuracy: 0.8785\n",
      "Epoch 19/100\n",
      "592083/592083 [==============================] - 1s 2us/step - loss: 0.3304 - accuracy: 0.8785 - val_loss: 0.3296 - val_accuracy: 0.8782\n",
      "Epoch 20/100\n",
      "592083/592083 [==============================] - 1s 2us/step - loss: 0.3293 - accuracy: 0.8788 - val_loss: 0.3284 - val_accuracy: 0.8803\n",
      "Epoch 21/100\n",
      "592083/592083 [==============================] - 1s 2us/step - loss: 0.3282 - accuracy: 0.8791 - val_loss: 0.3274 - val_accuracy: 0.8791\n",
      "Epoch 22/100\n",
      "592083/592083 [==============================] - 1s 2us/step - loss: 0.3271 - accuracy: 0.8794 - val_loss: 0.3276 - val_accuracy: 0.8773\n",
      "Epoch 23/100\n",
      "592083/592083 [==============================] - 1s 2us/step - loss: 0.3261 - accuracy: 0.8795 - val_loss: 0.3260 - val_accuracy: 0.8823\n",
      "Epoch 24/100\n",
      "592083/592083 [==============================] - 1s 2us/step - loss: 0.3251 - accuracy: 0.8797 - val_loss: 0.3245 - val_accuracy: 0.8807\n",
      "Epoch 25/100\n",
      "592083/592083 [==============================] - 1s 2us/step - loss: 0.3242 - accuracy: 0.8797 - val_loss: 0.3234 - val_accuracy: 0.8810\n",
      "Epoch 26/100\n",
      "592083/592083 [==============================] - 1s 2us/step - loss: 0.3232 - accuracy: 0.8801 - val_loss: 0.3226 - val_accuracy: 0.8803\n",
      "Epoch 27/100\n",
      "592083/592083 [==============================] - 1s 2us/step - loss: 0.3223 - accuracy: 0.8801 - val_loss: 0.3217 - val_accuracy: 0.8813\n",
      "Epoch 28/100\n",
      "592083/592083 [==============================] - 1s 2us/step - loss: 0.3214 - accuracy: 0.8803 - val_loss: 0.3207 - val_accuracy: 0.8815\n",
      "Epoch 29/100\n",
      "592083/592083 [==============================] - 1s 2us/step - loss: 0.3206 - accuracy: 0.8804 - val_loss: 0.3200 - val_accuracy: 0.8819\n",
      "Epoch 30/100\n",
      "592083/592083 [==============================] - 1s 2us/step - loss: 0.3198 - accuracy: 0.8805 - val_loss: 0.3192 - val_accuracy: 0.8826\n",
      "Epoch 31/100\n",
      "592083/592083 [==============================] - 1s 2us/step - loss: 0.3190 - accuracy: 0.8806 - val_loss: 0.3191 - val_accuracy: 0.8800\n",
      "Epoch 32/100\n",
      "592083/592083 [==============================] - 1s 2us/step - loss: 0.3182 - accuracy: 0.8807 - val_loss: 0.3183 - val_accuracy: 0.8832\n",
      "Epoch 33/100\n",
      "592083/592083 [==============================] - 1s 2us/step - loss: 0.3174 - accuracy: 0.8810 - val_loss: 0.3184 - val_accuracy: 0.8785\n",
      "Epoch 34/100\n",
      "592083/592083 [==============================] - 1s 2us/step - loss: 0.3168 - accuracy: 0.8811 - val_loss: 0.3166 - val_accuracy: 0.8804\n",
      "Epoch 35/100\n",
      "592083/592083 [==============================] - 1s 2us/step - loss: 0.3161 - accuracy: 0.8811 - val_loss: 0.3156 - val_accuracy: 0.8820\n",
      "Epoch 36/100\n",
      "592083/592083 [==============================] - 1s 2us/step - loss: 0.3154 - accuracy: 0.8813 - val_loss: 0.3149 - val_accuracy: 0.8812\n",
      "Epoch 37/100\n",
      "592083/592083 [==============================] - 1s 2us/step - loss: 0.3147 - accuracy: 0.8814 - val_loss: 0.3143 - val_accuracy: 0.8817\n",
      "Epoch 38/100\n",
      "592083/592083 [==============================] - 1s 2us/step - loss: 0.3140 - accuracy: 0.8813 - val_loss: 0.3137 - val_accuracy: 0.8832\n",
      "Epoch 39/100\n",
      "592083/592083 [==============================] - 1s 1us/step - loss: 0.3133 - accuracy: 0.8815 - val_loss: 0.3130 - val_accuracy: 0.8816\n",
      "Epoch 40/100\n",
      "592083/592083 [==============================] - 1s 2us/step - loss: 0.3128 - accuracy: 0.8815 - val_loss: 0.3123 - val_accuracy: 0.8828\n",
      "Epoch 41/100\n",
      "592083/592083 [==============================] - 1s 1us/step - loss: 0.3121 - accuracy: 0.8817 - val_loss: 0.3121 - val_accuracy: 0.8817\n",
      "Epoch 42/100\n",
      "592083/592083 [==============================] - 1s 1us/step - loss: 0.3117 - accuracy: 0.8818 - val_loss: 0.3112 - val_accuracy: 0.8819\n",
      "Epoch 43/100\n",
      "592083/592083 [==============================] - 1s 1us/step - loss: 0.3110 - accuracy: 0.8818 - val_loss: 0.3111 - val_accuracy: 0.8830\n",
      "Epoch 44/100\n",
      "592083/592083 [==============================] - 1s 1us/step - loss: 0.3106 - accuracy: 0.8819 - val_loss: 0.3102 - val_accuracy: 0.8821\n",
      "Epoch 45/100\n",
      "592083/592083 [==============================] - 1s 1us/step - loss: 0.3099 - accuracy: 0.8821 - val_loss: 0.3098 - val_accuracy: 0.8820\n",
      "Epoch 46/100\n",
      "592083/592083 [==============================] - 1s 1us/step - loss: 0.3094 - accuracy: 0.8822 - val_loss: 0.3090 - val_accuracy: 0.8826\n",
      "Epoch 47/100\n",
      "592083/592083 [==============================] - 1s 1us/step - loss: 0.3089 - accuracy: 0.8823 - val_loss: 0.3088 - val_accuracy: 0.8814\n",
      "Epoch 48/100\n",
      "592083/592083 [==============================] - 1s 1us/step - loss: 0.3084 - accuracy: 0.8822 - val_loss: 0.3081 - val_accuracy: 0.8826\n",
      "Epoch 49/100\n",
      "592083/592083 [==============================] - 1s 1us/step - loss: 0.3079 - accuracy: 0.8823 - val_loss: 0.3076 - val_accuracy: 0.8832\n",
      "Epoch 50/100\n",
      "592083/592083 [==============================] - 1s 1us/step - loss: 0.3074 - accuracy: 0.8825 - val_loss: 0.3071 - val_accuracy: 0.8834\n",
      "Epoch 51/100\n",
      "592083/592083 [==============================] - 1s 1us/step - loss: 0.3069 - accuracy: 0.8826 - val_loss: 0.3066 - val_accuracy: 0.8831\n",
      "Epoch 52/100\n",
      "592083/592083 [==============================] - 1s 1us/step - loss: 0.3064 - accuracy: 0.8827 - val_loss: 0.3061 - val_accuracy: 0.8830\n",
      "Epoch 53/100\n",
      "592083/592083 [==============================] - 1s 1us/step - loss: 0.3059 - accuracy: 0.8827 - val_loss: 0.3057 - val_accuracy: 0.8827\n",
      "Epoch 54/100\n",
      "592083/592083 [==============================] - 1s 1us/step - loss: 0.3056 - accuracy: 0.8827 - val_loss: 0.3054 - val_accuracy: 0.8842\n",
      "Epoch 55/100\n"
     ]
    },
    {
     "name": "stdout",
     "output_type": "stream",
     "text": [
      "592083/592083 [==============================] - 1s 1us/step - loss: 0.3051 - accuracy: 0.8828 - val_loss: 0.3048 - val_accuracy: 0.8834\n",
      "Epoch 56/100\n",
      "592083/592083 [==============================] - 1s 1us/step - loss: 0.3046 - accuracy: 0.8830 - val_loss: 0.3043 - val_accuracy: 0.8837\n",
      "Epoch 57/100\n",
      "592083/592083 [==============================] - 1s 1us/step - loss: 0.3042 - accuracy: 0.8831 - val_loss: 0.3041 - val_accuracy: 0.8824\n",
      "Epoch 58/100\n",
      "592083/592083 [==============================] - 1s 1us/step - loss: 0.3037 - accuracy: 0.8831 - val_loss: 0.3040 - val_accuracy: 0.8820\n",
      "Epoch 59/100\n",
      "592083/592083 [==============================] - 1s 1us/step - loss: 0.3033 - accuracy: 0.8832 - val_loss: 0.3032 - val_accuracy: 0.8827\n",
      "Epoch 60/100\n",
      "592083/592083 [==============================] - 1s 1us/step - loss: 0.3028 - accuracy: 0.8833 - val_loss: 0.3029 - val_accuracy: 0.8826\n",
      "Epoch 61/100\n",
      "592083/592083 [==============================] - 1s 1us/step - loss: 0.3024 - accuracy: 0.8833 - val_loss: 0.3022 - val_accuracy: 0.8847\n",
      "Epoch 62/100\n",
      "592083/592083 [==============================] - 1s 1us/step - loss: 0.3020 - accuracy: 0.8834 - val_loss: 0.3021 - val_accuracy: 0.8850\n",
      "Epoch 63/100\n",
      "592083/592083 [==============================] - 1s 1us/step - loss: 0.3015 - accuracy: 0.8836 - val_loss: 0.3012 - val_accuracy: 0.8838\n",
      "Epoch 64/100\n",
      "592083/592083 [==============================] - 1s 1us/step - loss: 0.3011 - accuracy: 0.8835 - val_loss: 0.3008 - val_accuracy: 0.8843\n",
      "Epoch 65/100\n",
      "592083/592083 [==============================] - 1s 1us/step - loss: 0.3006 - accuracy: 0.8838 - val_loss: 0.3004 - val_accuracy: 0.8836\n",
      "Epoch 66/100\n",
      "592083/592083 [==============================] - 1s 1us/step - loss: 0.3003 - accuracy: 0.8838 - val_loss: 0.3001 - val_accuracy: 0.8832\n",
      "Epoch 67/100\n",
      "592083/592083 [==============================] - 1s 1us/step - loss: 0.2997 - accuracy: 0.8839 - val_loss: 0.2995 - val_accuracy: 0.8837\n",
      "Epoch 68/100\n",
      "592083/592083 [==============================] - 1s 1us/step - loss: 0.2993 - accuracy: 0.8838 - val_loss: 0.2992 - val_accuracy: 0.8832\n",
      "Epoch 69/100\n",
      "592083/592083 [==============================] - 1s 1us/step - loss: 0.2988 - accuracy: 0.8839 - val_loss: 0.2987 - val_accuracy: 0.8851\n",
      "Epoch 70/100\n",
      "592083/592083 [==============================] - 1s 1us/step - loss: 0.2983 - accuracy: 0.8841 - val_loss: 0.2983 - val_accuracy: 0.8833\n",
      "Epoch 71/100\n",
      "592083/592083 [==============================] - 1s 1us/step - loss: 0.2978 - accuracy: 0.8841 - val_loss: 0.2975 - val_accuracy: 0.8845\n",
      "Epoch 72/100\n",
      "592083/592083 [==============================] - 1s 1us/step - loss: 0.2973 - accuracy: 0.8842 - val_loss: 0.2972 - val_accuracy: 0.8838\n",
      "Epoch 73/100\n",
      "592083/592083 [==============================] - 1s 1us/step - loss: 0.2967 - accuracy: 0.8843 - val_loss: 0.2965 - val_accuracy: 0.8844\n",
      "Epoch 74/100\n",
      "592083/592083 [==============================] - 1s 1us/step - loss: 0.2962 - accuracy: 0.8843 - val_loss: 0.2959 - val_accuracy: 0.8843\n",
      "Epoch 75/100\n",
      "592083/592083 [==============================] - 1s 1us/step - loss: 0.2956 - accuracy: 0.8844 - val_loss: 0.2955 - val_accuracy: 0.8843\n",
      "Epoch 76/100\n",
      "592083/592083 [==============================] - 1s 1us/step - loss: 0.2952 - accuracy: 0.8844 - val_loss: 0.2954 - val_accuracy: 0.8835\n",
      "Epoch 77/100\n",
      "592083/592083 [==============================] - 1s 1us/step - loss: 0.2946 - accuracy: 0.8845 - val_loss: 0.2943 - val_accuracy: 0.8847\n",
      "Epoch 78/100\n",
      "592083/592083 [==============================] - 1s 1us/step - loss: 0.2940 - accuracy: 0.8846 - val_loss: 0.2941 - val_accuracy: 0.8855\n",
      "Epoch 79/100\n",
      "592083/592083 [==============================] - 1s 1us/step - loss: 0.2935 - accuracy: 0.8848 - val_loss: 0.2931 - val_accuracy: 0.8853\n",
      "Epoch 80/100\n",
      "592083/592083 [==============================] - 1s 1us/step - loss: 0.2929 - accuracy: 0.8847 - val_loss: 0.2927 - val_accuracy: 0.8854\n",
      "Epoch 81/100\n",
      "592083/592083 [==============================] - 1s 1us/step - loss: 0.2924 - accuracy: 0.8849 - val_loss: 0.2924 - val_accuracy: 0.8862\n",
      "Epoch 82/100\n",
      "592083/592083 [==============================] - 1s 1us/step - loss: 0.2917 - accuracy: 0.8850 - val_loss: 0.2924 - val_accuracy: 0.8835\n",
      "Epoch 83/100\n",
      "592083/592083 [==============================] - 1s 1us/step - loss: 0.2911 - accuracy: 0.8851 - val_loss: 0.2909 - val_accuracy: 0.8846\n",
      "Epoch 84/100\n",
      "592083/592083 [==============================] - 1s 1us/step - loss: 0.2905 - accuracy: 0.8852 - val_loss: 0.2902 - val_accuracy: 0.8853\n",
      "Epoch 85/100\n",
      "592083/592083 [==============================] - 1s 1us/step - loss: 0.2898 - accuracy: 0.8853 - val_loss: 0.2902 - val_accuracy: 0.8843\n",
      "Epoch 86/100\n",
      "592083/592083 [==============================] - 1s 1us/step - loss: 0.2891 - accuracy: 0.8854 - val_loss: 0.2889 - val_accuracy: 0.8870\n",
      "Epoch 87/100\n",
      "592083/592083 [==============================] - 1s 1us/step - loss: 0.2884 - accuracy: 0.8857 - val_loss: 0.2880 - val_accuracy: 0.8862\n",
      "Epoch 88/100\n",
      "592083/592083 [==============================] - 1s 1us/step - loss: 0.2877 - accuracy: 0.8859 - val_loss: 0.2873 - val_accuracy: 0.8870\n",
      "Epoch 89/100\n",
      "592083/592083 [==============================] - 1s 1us/step - loss: 0.2869 - accuracy: 0.8861 - val_loss: 0.2874 - val_accuracy: 0.8882\n",
      "Epoch 90/100\n",
      "592083/592083 [==============================] - 1s 1us/step - loss: 0.2861 - accuracy: 0.8864 - val_loss: 0.2857 - val_accuracy: 0.8872\n",
      "Epoch 91/100\n",
      "592083/592083 [==============================] - 1s 1us/step - loss: 0.2853 - accuracy: 0.8867 - val_loss: 0.2852 - val_accuracy: 0.8889\n",
      "Epoch 92/100\n",
      "592083/592083 [==============================] - 1s 1us/step - loss: 0.2844 - accuracy: 0.8869 - val_loss: 0.2838 - val_accuracy: 0.8877\n",
      "Epoch 93/100\n",
      "592083/592083 [==============================] - 1s 1us/step - loss: 0.2834 - accuracy: 0.8871 - val_loss: 0.2829 - val_accuracy: 0.8881\n",
      "Epoch 94/100\n",
      "592083/592083 [==============================] - 1s 1us/step - loss: 0.2823 - accuracy: 0.8875 - val_loss: 0.2820 - val_accuracy: 0.8891\n",
      "Epoch 95/100\n",
      "592083/592083 [==============================] - 1s 1us/step - loss: 0.2813 - accuracy: 0.8877 - val_loss: 0.2807 - val_accuracy: 0.8890\n",
      "Epoch 96/100\n",
      "592083/592083 [==============================] - 1s 1us/step - loss: 0.2804 - accuracy: 0.8882 - val_loss: 0.2801 - val_accuracy: 0.8878\n",
      "Epoch 97/100\n",
      "592083/592083 [==============================] - 1s 1us/step - loss: 0.2794 - accuracy: 0.8885 - val_loss: 0.2787 - val_accuracy: 0.8901\n",
      "Epoch 98/100\n",
      "592083/592083 [==============================] - 1s 1us/step - loss: 0.2783 - accuracy: 0.8889 - val_loss: 0.2785 - val_accuracy: 0.8880\n",
      "Epoch 99/100\n",
      "592083/592083 [==============================] - 1s 1us/step - loss: 0.2771 - accuracy: 0.8895 - val_loss: 0.2765 - val_accuracy: 0.8909\n",
      "Epoch 100/100\n",
      "592083/592083 [==============================] - 1s 1us/step - loss: 0.2759 - accuracy: 0.8900 - val_loss: 0.2751 - val_accuracy: 0.8914\n"
     ]
    },
    {
     "data": {
      "text/plain": [
       "<keras.callbacks.callbacks.History at 0x1565fe9d0>"
      ]
     },
     "execution_count": 12,
     "metadata": {},
     "output_type": "execute_result"
    }
   ],
   "source": [
    "keras_model.fit(X_train_val, y_train_val, batch_size = 1024, epochs = 100, \n",
    "                validation_split = 0.25, shuffle = True)"
   ]
  },
  {
   "cell_type": "code",
   "execution_count": 13,
   "metadata": {},
   "outputs": [
    {
     "data": {
      "text/plain": [
       "[0.2756838642038182, 0.8905209898948669]"
      ]
     },
     "execution_count": 13,
     "metadata": {},
     "output_type": "execute_result"
    }
   ],
   "source": [
    "keras_model.evaluate(X_test,y_test,verbose=0)"
   ]
  },
  {
   "cell_type": "code",
   "execution_count": 14,
   "metadata": {},
   "outputs": [
    {
     "ename": "NotImplementedError",
     "evalue": "numpy() is only available when eager execution is enabled.",
     "output_type": "error",
     "traceback": [
      "\u001b[0;31m---------------------------------------------------------------------------\u001b[0m",
      "\u001b[0;31mNotImplementedError\u001b[0m                       Traceback (most recent call last)",
      "\u001b[0;32m<ipython-input-14-cc8b61db4a18>\u001b[0m in \u001b[0;36m<module>\u001b[0;34m\u001b[0m\n\u001b[0;32m----> 1\u001b[0;31m \u001b[0mkeras_model\u001b[0m\u001b[0;34m.\u001b[0m\u001b[0msave\u001b[0m\u001b[0;34m(\u001b[0m\u001b[0;34m\"re1layer.h5\"\u001b[0m\u001b[0;34m)\u001b[0m\u001b[0;34m\u001b[0m\u001b[0;34m\u001b[0m\u001b[0m\n\u001b[0m",
      "\u001b[0;32m~/opt/anaconda2/envs/research/lib/python3.7/site-packages/keras/engine/network.py\u001b[0m in \u001b[0;36msave\u001b[0;34m(self, filepath, overwrite, include_optimizer)\u001b[0m\n\u001b[1;32m   1150\u001b[0m             \u001b[0;32mraise\u001b[0m \u001b[0mNotImplementedError\u001b[0m\u001b[0;34m\u001b[0m\u001b[0;34m\u001b[0m\u001b[0m\n\u001b[1;32m   1151\u001b[0m         \u001b[0;32mfrom\u001b[0m \u001b[0;34m.\u001b[0m\u001b[0;34m.\u001b[0m\u001b[0mmodels\u001b[0m \u001b[0;32mimport\u001b[0m \u001b[0msave_model\u001b[0m\u001b[0;34m\u001b[0m\u001b[0;34m\u001b[0m\u001b[0m\n\u001b[0;32m-> 1152\u001b[0;31m         \u001b[0msave_model\u001b[0m\u001b[0;34m(\u001b[0m\u001b[0mself\u001b[0m\u001b[0;34m,\u001b[0m \u001b[0mfilepath\u001b[0m\u001b[0;34m,\u001b[0m \u001b[0moverwrite\u001b[0m\u001b[0;34m,\u001b[0m \u001b[0minclude_optimizer\u001b[0m\u001b[0;34m)\u001b[0m\u001b[0;34m\u001b[0m\u001b[0;34m\u001b[0m\u001b[0m\n\u001b[0m\u001b[1;32m   1153\u001b[0m \u001b[0;34m\u001b[0m\u001b[0m\n\u001b[1;32m   1154\u001b[0m     \u001b[0;34m@\u001b[0m\u001b[0msaving\u001b[0m\u001b[0;34m.\u001b[0m\u001b[0mallow_write_to_gcs\u001b[0m\u001b[0;34m\u001b[0m\u001b[0;34m\u001b[0m\u001b[0m\n",
      "\u001b[0;32m~/opt/anaconda2/envs/research/lib/python3.7/site-packages/keras/engine/saving.py\u001b[0m in \u001b[0;36msave_wrapper\u001b[0;34m(obj, filepath, overwrite, *args, **kwargs)\u001b[0m\n\u001b[1;32m    447\u001b[0m                 \u001b[0mos\u001b[0m\u001b[0;34m.\u001b[0m\u001b[0mremove\u001b[0m\u001b[0;34m(\u001b[0m\u001b[0mtmp_filepath\u001b[0m\u001b[0;34m)\u001b[0m\u001b[0;34m\u001b[0m\u001b[0;34m\u001b[0m\u001b[0m\n\u001b[1;32m    448\u001b[0m         \u001b[0;32melse\u001b[0m\u001b[0;34m:\u001b[0m\u001b[0;34m\u001b[0m\u001b[0;34m\u001b[0m\u001b[0m\n\u001b[0;32m--> 449\u001b[0;31m             \u001b[0msave_function\u001b[0m\u001b[0;34m(\u001b[0m\u001b[0mobj\u001b[0m\u001b[0;34m,\u001b[0m \u001b[0mfilepath\u001b[0m\u001b[0;34m,\u001b[0m \u001b[0moverwrite\u001b[0m\u001b[0;34m,\u001b[0m \u001b[0;34m*\u001b[0m\u001b[0margs\u001b[0m\u001b[0;34m,\u001b[0m \u001b[0;34m**\u001b[0m\u001b[0mkwargs\u001b[0m\u001b[0;34m)\u001b[0m\u001b[0;34m\u001b[0m\u001b[0;34m\u001b[0m\u001b[0m\n\u001b[0m\u001b[1;32m    450\u001b[0m \u001b[0;34m\u001b[0m\u001b[0m\n\u001b[1;32m    451\u001b[0m     \u001b[0;32mreturn\u001b[0m \u001b[0msave_wrapper\u001b[0m\u001b[0;34m\u001b[0m\u001b[0;34m\u001b[0m\u001b[0m\n",
      "\u001b[0;32m~/opt/anaconda2/envs/research/lib/python3.7/site-packages/keras/engine/saving.py\u001b[0m in \u001b[0;36msave_model\u001b[0;34m(model, filepath, overwrite, include_optimizer)\u001b[0m\n\u001b[1;32m    539\u001b[0m                 \u001b[0;32mreturn\u001b[0m\u001b[0;34m\u001b[0m\u001b[0;34m\u001b[0m\u001b[0m\n\u001b[1;32m    540\u001b[0m         \u001b[0;32mwith\u001b[0m \u001b[0mH5Dict\u001b[0m\u001b[0;34m(\u001b[0m\u001b[0mfilepath\u001b[0m\u001b[0;34m,\u001b[0m \u001b[0mmode\u001b[0m\u001b[0;34m=\u001b[0m\u001b[0;34m'w'\u001b[0m\u001b[0;34m)\u001b[0m \u001b[0;32mas\u001b[0m \u001b[0mh5dict\u001b[0m\u001b[0;34m:\u001b[0m\u001b[0;34m\u001b[0m\u001b[0;34m\u001b[0m\u001b[0m\n\u001b[0;32m--> 541\u001b[0;31m             \u001b[0m_serialize_model\u001b[0m\u001b[0;34m(\u001b[0m\u001b[0mmodel\u001b[0m\u001b[0;34m,\u001b[0m \u001b[0mh5dict\u001b[0m\u001b[0;34m,\u001b[0m \u001b[0minclude_optimizer\u001b[0m\u001b[0;34m)\u001b[0m\u001b[0;34m\u001b[0m\u001b[0;34m\u001b[0m\u001b[0m\n\u001b[0m\u001b[1;32m    542\u001b[0m     \u001b[0;32melif\u001b[0m \u001b[0mhasattr\u001b[0m\u001b[0;34m(\u001b[0m\u001b[0mfilepath\u001b[0m\u001b[0;34m,\u001b[0m \u001b[0;34m'write'\u001b[0m\u001b[0;34m)\u001b[0m \u001b[0;32mand\u001b[0m \u001b[0mcallable\u001b[0m\u001b[0;34m(\u001b[0m\u001b[0mfilepath\u001b[0m\u001b[0;34m.\u001b[0m\u001b[0mwrite\u001b[0m\u001b[0;34m)\u001b[0m\u001b[0;34m:\u001b[0m\u001b[0;34m\u001b[0m\u001b[0;34m\u001b[0m\u001b[0m\n\u001b[1;32m    543\u001b[0m         \u001b[0;31m# write as binary stream\u001b[0m\u001b[0;34m\u001b[0m\u001b[0;34m\u001b[0m\u001b[0;34m\u001b[0m\u001b[0m\n",
      "\u001b[0;32m~/opt/anaconda2/envs/research/lib/python3.7/site-packages/keras/engine/saving.py\u001b[0m in \u001b[0;36m_serialize_model\u001b[0;34m(model, h5dict, include_optimizer)\u001b[0m\n\u001b[1;32m    177\u001b[0m                 'optimizer_config': {\n\u001b[1;32m    178\u001b[0m                     \u001b[0;34m'class_name'\u001b[0m\u001b[0;34m:\u001b[0m \u001b[0mmodel\u001b[0m\u001b[0;34m.\u001b[0m\u001b[0moptimizer\u001b[0m\u001b[0;34m.\u001b[0m\u001b[0m__class__\u001b[0m\u001b[0;34m.\u001b[0m\u001b[0m__name__\u001b[0m\u001b[0;34m,\u001b[0m\u001b[0;34m\u001b[0m\u001b[0;34m\u001b[0m\u001b[0m\n\u001b[0;32m--> 179\u001b[0;31m                     \u001b[0;34m'config'\u001b[0m\u001b[0;34m:\u001b[0m \u001b[0mmodel\u001b[0m\u001b[0;34m.\u001b[0m\u001b[0moptimizer\u001b[0m\u001b[0;34m.\u001b[0m\u001b[0mget_config\u001b[0m\u001b[0;34m(\u001b[0m\u001b[0;34m)\u001b[0m\u001b[0;34m\u001b[0m\u001b[0;34m\u001b[0m\u001b[0m\n\u001b[0m\u001b[1;32m    180\u001b[0m                 },\n\u001b[1;32m    181\u001b[0m                 \u001b[0;34m'loss'\u001b[0m\u001b[0;34m:\u001b[0m \u001b[0mmodel\u001b[0m\u001b[0;34m.\u001b[0m\u001b[0mloss\u001b[0m\u001b[0;34m,\u001b[0m\u001b[0;34m\u001b[0m\u001b[0;34m\u001b[0m\u001b[0m\n",
      "\u001b[0;32m~/opt/anaconda2/envs/research/lib/python3.7/site-packages/keras/optimizers.py\u001b[0m in \u001b[0;36mget_config\u001b[0;34m(self)\u001b[0m\n\u001b[1;32m    555\u001b[0m \u001b[0;34m\u001b[0m\u001b[0m\n\u001b[1;32m    556\u001b[0m     \u001b[0;32mdef\u001b[0m \u001b[0mget_config\u001b[0m\u001b[0;34m(\u001b[0m\u001b[0mself\u001b[0m\u001b[0;34m)\u001b[0m\u001b[0;34m:\u001b[0m\u001b[0;34m\u001b[0m\u001b[0;34m\u001b[0m\u001b[0m\n\u001b[0;32m--> 557\u001b[0;31m         config = {'learning_rate': float(K.get_value(self.learning_rate)),\n\u001b[0m\u001b[1;32m    558\u001b[0m                   \u001b[0;34m'beta_1'\u001b[0m\u001b[0;34m:\u001b[0m \u001b[0mfloat\u001b[0m\u001b[0;34m(\u001b[0m\u001b[0mK\u001b[0m\u001b[0;34m.\u001b[0m\u001b[0mget_value\u001b[0m\u001b[0;34m(\u001b[0m\u001b[0mself\u001b[0m\u001b[0;34m.\u001b[0m\u001b[0mbeta_1\u001b[0m\u001b[0;34m)\u001b[0m\u001b[0;34m)\u001b[0m\u001b[0;34m,\u001b[0m\u001b[0;34m\u001b[0m\u001b[0;34m\u001b[0m\u001b[0m\n\u001b[1;32m    559\u001b[0m                   \u001b[0;34m'beta_2'\u001b[0m\u001b[0;34m:\u001b[0m \u001b[0mfloat\u001b[0m\u001b[0;34m(\u001b[0m\u001b[0mK\u001b[0m\u001b[0;34m.\u001b[0m\u001b[0mget_value\u001b[0m\u001b[0;34m(\u001b[0m\u001b[0mself\u001b[0m\u001b[0;34m.\u001b[0m\u001b[0mbeta_2\u001b[0m\u001b[0;34m)\u001b[0m\u001b[0;34m)\u001b[0m\u001b[0;34m,\u001b[0m\u001b[0;34m\u001b[0m\u001b[0;34m\u001b[0m\u001b[0m\n",
      "\u001b[0;32m~/opt/anaconda2/envs/research/lib/python3.7/site-packages/keras/backend/tensorflow_backend.py\u001b[0m in \u001b[0;36mget_value\u001b[0;34m(x)\u001b[0m\n\u001b[1;32m   2925\u001b[0m         \u001b[0;32mreturn\u001b[0m \u001b[0mx\u001b[0m\u001b[0;34m.\u001b[0m\u001b[0meval\u001b[0m\u001b[0;34m(\u001b[0m\u001b[0msession\u001b[0m\u001b[0;34m=\u001b[0m\u001b[0mget_session\u001b[0m\u001b[0;34m(\u001b[0m\u001b[0;34m)\u001b[0m\u001b[0;34m)\u001b[0m\u001b[0;34m\u001b[0m\u001b[0;34m\u001b[0m\u001b[0m\n\u001b[1;32m   2926\u001b[0m     \u001b[0;32melse\u001b[0m\u001b[0;34m:\u001b[0m\u001b[0;34m\u001b[0m\u001b[0;34m\u001b[0m\u001b[0m\n\u001b[0;32m-> 2927\u001b[0;31m         \u001b[0;32mreturn\u001b[0m \u001b[0mx\u001b[0m\u001b[0;34m.\u001b[0m\u001b[0mnumpy\u001b[0m\u001b[0;34m(\u001b[0m\u001b[0;34m)\u001b[0m\u001b[0;34m\u001b[0m\u001b[0;34m\u001b[0m\u001b[0m\n\u001b[0m\u001b[1;32m   2928\u001b[0m \u001b[0;34m\u001b[0m\u001b[0m\n\u001b[1;32m   2929\u001b[0m \u001b[0;34m\u001b[0m\u001b[0m\n",
      "\u001b[0;32m~/opt/anaconda2/envs/research/lib/python3.7/site-packages/tensorflow_core/python/ops/resource_variable_ops.py\u001b[0m in \u001b[0;36mnumpy\u001b[0;34m(self)\u001b[0m\n\u001b[1;32m    582\u001b[0m       \u001b[0;32mreturn\u001b[0m \u001b[0mself\u001b[0m\u001b[0;34m.\u001b[0m\u001b[0mread_value\u001b[0m\u001b[0;34m(\u001b[0m\u001b[0;34m)\u001b[0m\u001b[0;34m.\u001b[0m\u001b[0mnumpy\u001b[0m\u001b[0;34m(\u001b[0m\u001b[0;34m)\u001b[0m\u001b[0;34m\u001b[0m\u001b[0;34m\u001b[0m\u001b[0m\n\u001b[1;32m    583\u001b[0m     raise NotImplementedError(\n\u001b[0;32m--> 584\u001b[0;31m         \"numpy() is only available when eager execution is enabled.\")\n\u001b[0m\u001b[1;32m    585\u001b[0m \u001b[0;34m\u001b[0m\u001b[0m\n\u001b[1;32m    586\u001b[0m   \u001b[0;34m@\u001b[0m\u001b[0mdeprecated\u001b[0m\u001b[0;34m(\u001b[0m\u001b[0;32mNone\u001b[0m\u001b[0;34m,\u001b[0m \u001b[0;34m\"Prefer Dataset.range instead.\"\u001b[0m\u001b[0;34m)\u001b[0m\u001b[0;34m\u001b[0m\u001b[0;34m\u001b[0m\u001b[0m\n",
      "\u001b[0;31mNotImplementedError\u001b[0m: numpy() is only available when eager execution is enabled."
     ]
    }
   ],
   "source": [
    "keras_model.save(\"re1layer.h5\")"
   ]
  },
  {
   "cell_type": "code",
   "execution_count": null,
   "metadata": {},
   "outputs": [],
   "source": [
    " model = load_model(keras_model, custom_objects={'ZeroSomeWeights':ZeroSomeWeights,\n",
    "                                                           'BinaryDense': BinaryDense,\n",
    "                                                           'TernaryDense': TernaryDense,\n",
    "                                                           'QuantizedDense': QuantizedDense,\n",
    "                                                           'binary_tanh': binary_tanh,\n",
    "                                                           'ternary_tanh': ternary_tanh,\n",
    "                                                           'quantized_relu': quantized_relu,\n",
    "                                                           'Clip': Clip})"
   ]
  },
  {
   "cell_type": "code",
   "execution_count": null,
   "metadata": {},
   "outputs": [],
   "source": [
    "y_predict = makeRoc(X_test, labels, y_test, keras_model)\n",
    "y_test_proba = y_test.argmax(axis=1)\n",
    "y_predict_proba = y_predict.argmax(axis=1)"
   ]
  },
  {
   "cell_type": "code",
   "execution_count": null,
   "metadata": {},
   "outputs": [],
   "source": []
  }
 ],
 "metadata": {
  "kernelspec": {
   "display_name": "Python 3",
   "language": "python",
   "name": "python3"
  },
  "language_info": {
   "codemirror_mode": {
    "name": "ipython",
    "version": 3
   },
   "file_extension": ".py",
   "mimetype": "text/x-python",
   "name": "python",
   "nbconvert_exporter": "python",
   "pygments_lexer": "ipython3",
   "version": "3.7.6"
  }
 },
 "nbformat": 4,
 "nbformat_minor": 4
}
